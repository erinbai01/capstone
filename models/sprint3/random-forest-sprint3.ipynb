{
 "cells": [
  {
   "cell_type": "markdown",
   "id": "095c59ba-f671-4997-b0a4-ee8370daebdc",
   "metadata": {},
   "source": [
    "### Table of Contents\n",
    "\n",
    "#### 1. Random Forest Baseline Model\n",
    "\n",
    "#### 2. Manually Fine-Tuning of Hyperparameters\n",
    "\n",
    "#### 3. Model Evaluation\n",
    "\n",
    "#### 4. Conclusion"
   ]
  },
  {
   "cell_type": "markdown",
   "id": "8535675e-4386-499c-8829-19b5dcae6768",
   "metadata": {},
   "source": [
    "### Data Dictionary\n",
    "\n",
    "The dataset is created by joining 5 tables and added dummy columns. For an overview of the data, please refer to the following data dictionary:\n",
    "\n",
    "#### 1. sales columns\n",
    "\n",
    "**store_nbr**: the store at which the products are sold.\n",
    "\n",
    "**family**: the type of product sold.\n",
    "\n",
    "**sales**: the total sales for a product family at a particular store on a given date. Fractional values are possible since products can be sold in\n",
    "\n",
    "fractional units (e.g., 1.5 kg of cheese, as opposed to 1 bag of chips).\n",
    "\n",
    "**onpromotion**: the total number of items in a product family that were being promoted at a store on a given date.\n",
    "\n",
    "#### 2. stores columns\n",
    "\n",
    "Store metadata, including **city, state, type, and cluster**.\n",
    "\n",
    "cluster is a grouping of similar stores.\n",
    "\n",
    "#### 3. oil column\n",
    "\n",
    "**Daily oil price**. (Ecuador is an oil-dependent country and it's economical health is highly vulnerable to shocks in oil prices.)\n",
    "\n",
    "#### 4. holidays_events columns\n",
    "\n",
    "Holidays and Events, with metadata\n",
    "\n",
    "NOTE: Pay special attention to the **transferred** column. A holiday that is transferred officially falls on that calendar day, but was moved to\n",
    "\n",
    "another date by the government. A transferred day is more like a normal day than a holiday. To find the day that it was actually celebrated, look for \n",
    "\n",
    "the corresponding row where type is Transfer. For example, the holiday Independencia de Guayaquil was transferred from 2012-10-09 to 2012-10-12, which \n",
    "\n",
    "means it was celebrated on 2012-10-12. \n",
    "\n",
    "Days that are type **Bridge** are extra days that are added to a holiday (e.g., to extend the break across a long weekend). These are frequently made \n",
    "\n",
    "up by the type **Work Day** which is a day not normally scheduled for work (e.g., Saturday) that is meant to payback the Bridge.\n",
    "\n",
    "**Additional** holidays are days added a regular calendar holiday, for example, as typically happens around Christmas (m aking Christmas Eve a holiday).\n",
    "\n",
    "#### 5. Additional Notes on events\n",
    "\n",
    "Wages in the public sector are paid every two weeks on the 15 th and on the last day of the month. Supermarket sales could be affected by this.\n",
    "\n",
    "A magnitude 7.8 earthquake struck Ecuador on April 16, 2016. People rallied in relief efforts donating water and other first need products which \n",
    "\n",
    "greatly affected supermarket sales for several weeks after the earthquake"
   ]
  },
  {
   "cell_type": "code",
   "execution_count": 1,
   "id": "c1609bdc-9a6c-4780-94b3-94ea95b504c4",
   "metadata": {},
   "outputs": [],
   "source": [
    "# import basic libraries\n",
    "import numpy as np\n",
    "import pandas as pd\n",
    "import matplotlib.pyplot as plt\n",
    "import seaborn as sns"
   ]
  },
  {
   "cell_type": "code",
   "execution_count": 2,
   "id": "d1e9fa49-e4f7-48b8-91a8-566975d4dd47",
   "metadata": {},
   "outputs": [
    {
     "data": {
      "text/html": [
       "<div>\n",
       "<style scoped>\n",
       "    .dataframe tbody tr th:only-of-type {\n",
       "        vertical-align: middle;\n",
       "    }\n",
       "\n",
       "    .dataframe tbody tr th {\n",
       "        vertical-align: top;\n",
       "    }\n",
       "\n",
       "    .dataframe thead th {\n",
       "        text-align: right;\n",
       "    }\n",
       "</style>\n",
       "<table border=\"1\" class=\"dataframe\">\n",
       "  <thead>\n",
       "    <tr style=\"text-align: right;\">\n",
       "      <th></th>\n",
       "      <th>sales</th>\n",
       "      <th>onpromotion</th>\n",
       "      <th>store_trans</th>\n",
       "      <th>dcoilwtico_interpolated</th>\n",
       "      <th>store_nbr_1</th>\n",
       "      <th>store_nbr_10</th>\n",
       "      <th>store_nbr_17</th>\n",
       "      <th>store_nbr_18</th>\n",
       "      <th>store_nbr_2</th>\n",
       "      <th>store_nbr_3</th>\n",
       "      <th>...</th>\n",
       "      <th>description_eng_World Cup Brazil: Quarter Final</th>\n",
       "      <th>description_eng_World Cup Brazil: Semifinals</th>\n",
       "      <th>description_eng_World Cup Brazil: Third and fourth place</th>\n",
       "      <th>description_eng_World Football Inauguration Brazil</th>\n",
       "      <th>description_eng_foundation of Quito</th>\n",
       "      <th>year</th>\n",
       "      <th>month</th>\n",
       "      <th>day</th>\n",
       "      <th>weekday</th>\n",
       "      <th>weekend</th>\n",
       "    </tr>\n",
       "  </thead>\n",
       "  <tbody>\n",
       "    <tr>\n",
       "      <th>0</th>\n",
       "      <td>1091.0</td>\n",
       "      <td>0</td>\n",
       "      <td>2111.0</td>\n",
       "      <td>93.14</td>\n",
       "      <td>1</td>\n",
       "      <td>0</td>\n",
       "      <td>0</td>\n",
       "      <td>0</td>\n",
       "      <td>0</td>\n",
       "      <td>0</td>\n",
       "      <td>...</td>\n",
       "      <td>0</td>\n",
       "      <td>0</td>\n",
       "      <td>0</td>\n",
       "      <td>0</td>\n",
       "      <td>0</td>\n",
       "      <td>2013</td>\n",
       "      <td>1</td>\n",
       "      <td>2</td>\n",
       "      <td>3</td>\n",
       "      <td>0</td>\n",
       "    </tr>\n",
       "    <tr>\n",
       "      <th>1</th>\n",
       "      <td>1060.0</td>\n",
       "      <td>0</td>\n",
       "      <td>2111.0</td>\n",
       "      <td>93.14</td>\n",
       "      <td>1</td>\n",
       "      <td>0</td>\n",
       "      <td>0</td>\n",
       "      <td>0</td>\n",
       "      <td>0</td>\n",
       "      <td>0</td>\n",
       "      <td>...</td>\n",
       "      <td>0</td>\n",
       "      <td>0</td>\n",
       "      <td>0</td>\n",
       "      <td>0</td>\n",
       "      <td>0</td>\n",
       "      <td>2013</td>\n",
       "      <td>1</td>\n",
       "      <td>2</td>\n",
       "      <td>3</td>\n",
       "      <td>0</td>\n",
       "    </tr>\n",
       "    <tr>\n",
       "      <th>2</th>\n",
       "      <td>579.0</td>\n",
       "      <td>0</td>\n",
       "      <td>2111.0</td>\n",
       "      <td>93.14</td>\n",
       "      <td>1</td>\n",
       "      <td>0</td>\n",
       "      <td>0</td>\n",
       "      <td>0</td>\n",
       "      <td>0</td>\n",
       "      <td>0</td>\n",
       "      <td>...</td>\n",
       "      <td>0</td>\n",
       "      <td>0</td>\n",
       "      <td>0</td>\n",
       "      <td>0</td>\n",
       "      <td>0</td>\n",
       "      <td>2013</td>\n",
       "      <td>1</td>\n",
       "      <td>2</td>\n",
       "      <td>3</td>\n",
       "      <td>0</td>\n",
       "    </tr>\n",
       "    <tr>\n",
       "      <th>3</th>\n",
       "      <td>2652.0</td>\n",
       "      <td>0</td>\n",
       "      <td>2111.0</td>\n",
       "      <td>93.14</td>\n",
       "      <td>1</td>\n",
       "      <td>0</td>\n",
       "      <td>0</td>\n",
       "      <td>0</td>\n",
       "      <td>0</td>\n",
       "      <td>0</td>\n",
       "      <td>...</td>\n",
       "      <td>0</td>\n",
       "      <td>0</td>\n",
       "      <td>0</td>\n",
       "      <td>0</td>\n",
       "      <td>0</td>\n",
       "      <td>2013</td>\n",
       "      <td>1</td>\n",
       "      <td>2</td>\n",
       "      <td>3</td>\n",
       "      <td>0</td>\n",
       "    </tr>\n",
       "    <tr>\n",
       "      <th>4</th>\n",
       "      <td>0.0</td>\n",
       "      <td>0</td>\n",
       "      <td>2111.0</td>\n",
       "      <td>93.14</td>\n",
       "      <td>1</td>\n",
       "      <td>0</td>\n",
       "      <td>0</td>\n",
       "      <td>0</td>\n",
       "      <td>0</td>\n",
       "      <td>0</td>\n",
       "      <td>...</td>\n",
       "      <td>0</td>\n",
       "      <td>0</td>\n",
       "      <td>0</td>\n",
       "      <td>0</td>\n",
       "      <td>0</td>\n",
       "      <td>2013</td>\n",
       "      <td>1</td>\n",
       "      <td>2</td>\n",
       "      <td>3</td>\n",
       "      <td>0</td>\n",
       "    </tr>\n",
       "  </tbody>\n",
       "</table>\n",
       "<p>5 rows × 117 columns</p>\n",
       "</div>"
      ],
      "text/plain": [
       "    sales  onpromotion  store_trans  dcoilwtico_interpolated  store_nbr_1  \\\n",
       "0  1091.0            0       2111.0                    93.14            1   \n",
       "1  1060.0            0       2111.0                    93.14            1   \n",
       "2   579.0            0       2111.0                    93.14            1   \n",
       "3  2652.0            0       2111.0                    93.14            1   \n",
       "4     0.0            0       2111.0                    93.14            1   \n",
       "\n",
       "   store_nbr_10  store_nbr_17  store_nbr_18  store_nbr_2  store_nbr_3  ...  \\\n",
       "0             0             0             0            0            0  ...   \n",
       "1             0             0             0            0            0  ...   \n",
       "2             0             0             0            0            0  ...   \n",
       "3             0             0             0            0            0  ...   \n",
       "4             0             0             0            0            0  ...   \n",
       "\n",
       "   description_eng_World Cup Brazil: Quarter Final  \\\n",
       "0                                                0   \n",
       "1                                                0   \n",
       "2                                                0   \n",
       "3                                                0   \n",
       "4                                                0   \n",
       "\n",
       "   description_eng_World Cup Brazil: Semifinals  \\\n",
       "0                                             0   \n",
       "1                                             0   \n",
       "2                                             0   \n",
       "3                                             0   \n",
       "4                                             0   \n",
       "\n",
       "   description_eng_World Cup Brazil: Third and fourth place  \\\n",
       "0                                                  0          \n",
       "1                                                  0          \n",
       "2                                                  0          \n",
       "3                                                  0          \n",
       "4                                                  0          \n",
       "\n",
       "   description_eng_World Football Inauguration Brazil  \\\n",
       "0                                                  0    \n",
       "1                                                  0    \n",
       "2                                                  0    \n",
       "3                                                  0    \n",
       "4                                                  0    \n",
       "\n",
       "   description_eng_foundation of Quito  year  month  day  weekday  weekend  \n",
       "0                                    0  2013      1    2        3        0  \n",
       "1                                    0  2013      1    2        3        0  \n",
       "2                                    0  2013      1    2        3        0  \n",
       "3                                    0  2013      1    2        3        0  \n",
       "4                                    0  2013      1    2        3        0  \n",
       "\n",
       "[5 rows x 117 columns]"
      ]
     },
     "execution_count": 2,
     "metadata": {},
     "output_type": "execute_result"
    }
   ],
   "source": [
    "# read data\n",
    "df=pd.read_csv(\"full_data_dropped_dummies.csv\")\n",
    "df.head()"
   ]
  },
  {
   "cell_type": "markdown",
   "id": "6e92b45b-1732-4ffc-82aa-991af0995097",
   "metadata": {},
   "source": [
    "#### Split the dataset"
   ]
  },
  {
   "cell_type": "code",
   "execution_count": 5,
   "id": "07ab8bc0-e8ca-46fb-8769-7f1a05ae17f1",
   "metadata": {},
   "outputs": [],
   "source": [
    "# train_validation_test split\n",
    "from sklearn.model_selection import train_test_split\n",
    "X=df.drop(\"sales\", axis=1)\n",
    "y=df[\"sales\"]\n",
    "X_train, X_test, y_train, y_test = train_test_split(X,y,test_size=0.2,random_state=23)\n",
    "X_train2, X_val, y_train2, y_val = train_test_split(X_train, y_train, test_size=0.2, random_state=23)"
   ]
  },
  {
   "cell_type": "markdown",
   "id": "211d8afe-b08b-40c0-8eb3-a51235267942",
   "metadata": {},
   "source": [
    "### 1. Random Forest Baseline Model"
   ]
  },
  {
   "cell_type": "code",
   "execution_count": 4,
   "id": "44fa7a3b-2417-4874-9fe8-efb089c9c6df",
   "metadata": {},
   "outputs": [],
   "source": [
    "from sklearn.ensemble import RandomForestRegressor\n",
    "from sklearn.metrics import r2_score, mean_absolute_error, mean_squared_error"
   ]
  },
  {
   "cell_type": "code",
   "execution_count": 6,
   "id": "0c872a95-4961-4de0-b750-a8dede76b092",
   "metadata": {},
   "outputs": [
    {
     "name": "stdout",
     "output_type": "stream",
     "text": [
      "baseline train r squared: 0.99\n",
      "baseline validation r squared: 0.95\n",
      "baseline test r squared: 0.91\n"
     ]
    }
   ],
   "source": [
    "rf = RandomForestRegressor(random_state=42)\n",
    "rf.fit(X_train2,y_train2)\n",
    "y_train2_pred = rf.predict(X_train2)\n",
    "y_val_pred = rf.predict(X_val)\n",
    "y_test_pred = rf.predict(X_test)\n",
    "print(f\"baseline train r squared: {r2_score(y_train2,y_train2_pred):.2f}\")\n",
    "print(f\"baseline validation r squared: {r2_score(y_val,y_val_pred):.2f}\")\n",
    "print(f\"baseline test r squared: {r2_score(y_test,y_test_pred):.2f}\")"
   ]
  },
  {
   "cell_type": "markdown",
   "id": "b80f946c-b8c8-4b86-b6e2-f501276c3d0e",
   "metadata": {},
   "source": [
    "#### The initial performance of the Random Forest model is promising, but overfitting is an issue. To improve its performance, I tried using GridSearchCV and RandomSearchCV; however, they were too computationally intensive to produce results. To conserve computational resources, I will manually iterate over a parameter grid with a single train-validation split. I will then validate the best model found using cross-validation before making predictions on the test data."
   ]
  },
  {
   "cell_type": "markdown",
   "id": "995a359f-9d3f-4193-bde4-72010ee9feee",
   "metadata": {},
   "source": [
    "### 2. Manually iterate over parameter grid."
   ]
  },
  {
   "cell_type": "code",
   "execution_count": 7,
   "id": "e2bc37f3-9915-4a6b-80eb-e87d6a2bf0bf",
   "metadata": {},
   "outputs": [],
   "source": [
    "# Define the hyperparameters to tune\n",
    "param_grid = {\n",
    "    'n_estimators': [100, 300],\n",
    "    'max_depth': [20,40,60],\n",
    "    'min_samples_leaf': [5,10,25]\n",
    "}"
   ]
  },
  {
   "cell_type": "code",
   "execution_count": 8,
   "id": "4363642b-0b94-42fc-846c-a001cbe19a40",
   "metadata": {},
   "outputs": [],
   "source": [
    "# Iterate over all combinations of hyperparameters\n",
    "from sklearn.model_selection import ParameterGrid\n",
    "best_score = 0\n",
    "best_params = None\n",
    "for params in ParameterGrid(param_grid):\n",
    "    rf = RandomForestRegressor(random_state=42, n_jobs=-1, **params)\n",
    "    rf.fit(X_train2, y_train2)\n",
    "\n",
    "    # Evaluate on validation set\n",
    "    y_val_pred = rf.predict(X_val)\n",
    "    val_r2 = r2_score(y_val, y_val_pred)\n",
    "    # Keep track of the best model\n",
    "    if val_r2 > best_score:\n",
    "        best_score = val_r2\n",
    "        best_params = params"
   ]
  },
  {
   "cell_type": "code",
   "execution_count": 9,
   "id": "741f1500-a888-40ae-bdad-368a75278e9f",
   "metadata": {},
   "outputs": [
    {
     "name": "stdout",
     "output_type": "stream",
     "text": [
      "Best parameters: {'max_depth': 40, 'min_samples_leaf': 5, 'n_estimators': 300}\n",
      "Train R² score: 0.96\n",
      "Validation R² score: 0.95\n",
      "Train MAE: 216.04\n",
      "Validation MAE: 301.51\n",
      "Train MSE: 364953.93\n",
      "Validation MSE: 455374.35\n"
     ]
    }
   ],
   "source": [
    "# Train the best model on the entire training set with best parameters\n",
    "best_rf = RandomForestRegressor(random_state=42, **best_params)\n",
    "best_rf.fit(X_train2, y_train2)\n",
    "\n",
    "# Evaluate on training and validation sets with best model\n",
    "y_train2_pred = best_rf.predict(X_train2)\n",
    "y_val_pred = best_rf.predict(X_val)\n",
    "\n",
    "print(f\"Best parameters: {best_params}\")\n",
    "print(f\"Train R² score: {r2_score(y_train2, y_train2_pred):.2f}\")\n",
    "print(f\"Validation R² score: {r2_score(y_val, y_val_pred):.2f}\")\n",
    "print(f\"Train MAE: {mean_absolute_error(y_train2, y_train2_pred):.2f}\")\n",
    "print(f\"Validation MAE: {mean_absolute_error(y_val, y_val_pred):.2f}\")\n",
    "print(f\"Train MSE: {mean_squared_error(y_train2, y_train2_pred):.2f}\")\n",
    "print(f\"Validation MSE: {mean_squared_error(y_val, y_val_pred):.2f}\")"
   ]
  },
  {
   "cell_type": "markdown",
   "id": "8915ae89-ed14-42b7-af34-f55565e846c2",
   "metadata": {},
   "source": [
    "**A robust model achieved, we will proceed to make predictions.**"
   ]
  },
  {
   "cell_type": "code",
   "execution_count": 11,
   "id": "25f00d43-de63-4166-aba2-34c4ecb355f8",
   "metadata": {},
   "outputs": [
    {
     "name": "stdout",
     "output_type": "stream",
     "text": [
      "Test R² score: 0.91\n",
      "Test MAE: 302.76\n",
      "Test MSE: 867844.41\n"
     ]
    }
   ],
   "source": [
    "y_test_pred = best_rf.predict(X_test)\n",
    "print(f\"Test R² score: {r2_score(y_test, y_test_pred):.2f}\")\n",
    "print(f\"Test MAE: {mean_absolute_error(y_test, y_test_pred):.2f}\")\n",
    "print(f\"Test MSE: {mean_squared_error(y_test, y_test_pred):.2f}\")"
   ]
  },
  {
   "cell_type": "markdown",
   "id": "2d8ab065-bcc8-40d6-91c9-6ddd9bf073b9",
   "metadata": {},
   "source": [
    "### 3. Model Evaluation"
   ]
  },
  {
   "cell_type": "markdown",
   "id": "d9e46df4-3df9-4490-b26a-5346876ec73f",
   "metadata": {},
   "source": [
    "#### 3.1 Feature Importance"
   ]
  },
  {
   "cell_type": "code",
   "execution_count": 12,
   "id": "0962f487-78ef-4dbd-9325-1e19be3f9eb3",
   "metadata": {},
   "outputs": [
    {
     "data": {
      "image/png": "[encoded data removed]",
      "text/plain": [
       "<Figure size 1200x600 with 1 Axes>"
      ]
     },
     "metadata": {},
     "output_type": "display_data"
    }
   ],
   "source": [
    "# Check for important features of the best model\n",
    "feature_importances = best_rf.feature_importances_\n",
    "features = X_train2.columns\n",
    "\n",
    "# Create a DataFrame for better visualization\n",
    "feature_df = pd.DataFrame({'feature': features, 'importance': feature_importances})\n",
    "feature_df = feature_df.sort_values(by='importance', ascending=False)\n",
    "\n",
    "# Plot feature importances\n",
    "plt.figure(figsize=(12, 6))\n",
    "plt.barh(feature_df['feature'][:20], feature_df['importance'][:20])\n",
    "plt.xlabel('Importance')\n",
    "plt.title('Feature Importance')\n",
    "plt.gca().invert_yaxis()\n",
    "plt.show()"
   ]
  },
  {
   "cell_type": "markdown",
   "id": "8a848091-de52-448d-bc59-57948e1147bf",
   "metadata": {},
   "source": [
    "#### 3.2 Error Analysis"
   ]
  },
  {
   "cell_type": "code",
   "execution_count": 13,
   "id": "cd9ee097-9e31-4cb3-861e-baa806ae4e40",
   "metadata": {},
   "outputs": [
    {
     "data": {
      "image/png": "[encoded data removed]",
      "text/plain": [
       "<Figure size 1200x600 with 1 Axes>"
      ]
     },
     "metadata": {},
     "output_type": "display_data"
    }
   ],
   "source": [
    "# Calculate residuals\n",
    "test_residuals = y_test - y_test_pred\n",
    "\n",
    "# Plot residuals\n",
    "plt.figure(figsize=(12, 6))\n",
    "sns.histplot(test_residuals, kde=True, bins=30, color='blue')\n",
    "plt.title('Testing Residuals')\n",
    "\n",
    "plt.show()"
   ]
  },
  {
   "attachments": {},
   "cell_type": "markdown",
   "id": "83b5f9a6-0326-47cf-993f-bded3e89dd69",
   "metadata": {},
   "source": [
    "### 4. Conclusion: \n",
    "\n",
    "- #### RF outperformed all other models with the least effort in fine-tuning hyperparameters, but its computation time is significantly longer. \n",
    "- #### Linear Regression's top important features are store_trans, GroceryI, store type A, onpromotion, year, cluster5, Cleaning, and daily oil price. Both Decision Tree and Random Forest have store_trans, GroceryI, Beverages, onpromotion, daily oil price, year, month, and Produce as their top 7 features. There are minor differences between DT and RF.\n",
    "\n",
    "- #### Error Analysis: 1. High density near zero, suggesting that the model is generally accurate; 2. Long right tail, suggesting the model significantly underestimate some actual values due to the outliers in the dataset. \r\n"
   ]
  }
 ],
 "metadata": {
  "kernelspec": {
   "display_name": "Python 3 (ipykernel)",
   "language": "python",
   "name": "python3"
  },
  "language_info": {
   "codemirror_mode": {
    "name": "ipython",
    "version": 3
   },
   "file_extension": ".py",
   "mimetype": "text/x-python",
   "name": "python",
   "nbconvert_exporter": "python",
   "pygments_lexer": "ipython3",
   "version": "3.11.7"
  }
 },
 "nbformat": 4,
 "nbformat_minor": 5
}
