{
 "cells": [
  {
   "cell_type": "markdown",
   "id": "939e4b96-c776-4fc6-9205-7005c4215bcb",
   "metadata": {},
   "source": [
    "### Overview:\n",
    "- #### This EDA aims to understand data metrics and define the project scope. It involves analyzing five tables, totaling 3 million rows and 21 columns, to define prediction scope.\n",
    "- #### The goal is to help stores optimize their inventory, thereby preventing overstocking and understocking."
   ]
  },
  {
   "cell_type": "markdown",
   "id": "96d1f76c-5fb5-4f64-82e2-a5b7ffc7d42b",
   "metadata": {},
   "source": [
    "### Table of Contents:\n",
    "\r\n",
    "1. Main Table (train.csv) EDA\r\n",
    "2. Quito Store Table EDA\r\n",
    "3. Oil Table EDA\r\n",
    "4. Holidays_events Table EDAT\n",
    "5. transactions Table EDA\r\n",
    "6. Join the 5 Tables"
   ]
  },
  {
   "cell_type": "markdown",
   "id": "6e1d5a60-8905-4ce3-ae37-391c564f00c3",
   "metadata": {},
   "source": [
    "### Data Dictionary\r\n",
    "\r\n",
    "#### 1. sales.csv\r\n",
    "\r\n",
    "**store_nbr**: the store at which the products are sold.\r\n",
    "\r\n",
    "**family**: the type of product sold.\r\n",
    "\r\n",
    "**sales**: the total sales for a product family at a particular store on a given date. Fractional values are possible since products can be sold in\r\n",
    "\r\n",
    "fractional units (e.g., 1.5 kg of cheese, as opposed to 1 bag of chips).\r\n",
    "\r\n",
    "**onpromotion**: the total number of items in a product family that were being promoted at a store on a given date.\r\n",
    "\r\n",
    "#### 2. stores.csv\r\n",
    "\r\n",
    "Store metadata, including **city, state, type, and cluster**.\r\n",
    "\r\n",
    "cluster is a grouping of similar stores.\r\n",
    "\r\n",
    "#### 3. oil.csv\r\n",
    "\r\n",
    "**Daily oil price**. (Ecuador is an oil-dependent country and it's economical health is highly vulnerable to shocks in oil prices.)\r\n",
    "\r\n",
    "#### 4. holidays_events.csv\r\n",
    "\r\n",
    "Holidays and Events, with metadata\r\n",
    "\r\n",
    "NOTE: Pay special attention to the **transferred** column. A holiday that is transferred officially falls on that calendar day, but was moved to\r\n",
    "\r\n",
    "another date by the government. A transferred day is more like a normal day than a holiday. To find the day that it was actually celebrated, look for \r\n",
    "\r\n",
    "the corresponding row where type is Transfer. For example, the holiday Independencia de Guayaquil was transferred from 2012-10-09 to 2012-10-12, which \r\n",
    "\r\n",
    "means it was celebrated on 2012-10-12. \r\n",
    "\r\n",
    "Days that are type **Bridge** are extra days that are added to a holiday (e.g., to extend the break across a long weekend). These are frequently made \r\n",
    "\r\n",
    "up by the type **Work Day** which is a day not normally scheduled for work (e.g., Saturday) that is meant to payback the Bridge.\r\n",
    "\r\n",
    "**Additional** holidays are days added a regular calendar holiday, for example, as typically happens around Christmas (making Christmas Eve a holiday).\r\n",
    "\r\n",
    "#### 5. transactions.csv\r\n",
    "\r\n",
    "**transactions**: daily store transactions\r\n",
    "\r\n",
    "#### 6. Additional Notes\r\n",
    "\r\n",
    "Wages in the public sector are paid every two weeks on the 15th and on the last day of the month. Supermarket sales could be affected by this.\r\n",
    "\r\n",
    "A magnitude 7.8 earthquake struck Ecuador on April 16, 2016. People rallied in relief efforts donating water and other first need products which \r\n",
    "\r\n",
    "greatly affected supermarket sales for several weeks after the earthquake"
   ]
  },
  {
   "cell_type": "code",
   "execution_count": 29,
   "id": "5c29edf1-6be7-4a6f-af1c-258946de8f47",
   "metadata": {},
   "outputs": [],
   "source": [
    "import numpy as np\n",
    "import pandas as pd\n",
    "import matplotlib.pyplot as plt\n",
    "import seaborn as sns"
   ]
  },
  {
   "cell_type": "markdown",
   "id": "92407c69-893f-450a-9a6d-00ba383b17fc",
   "metadata": {},
   "source": [
    "### 1. Main Table (train.csv) EDA"
   ]
  },
  {
   "cell_type": "code",
   "execution_count": 30,
   "id": "94bf0b95-44c1-46d7-8871-a216506f3d3e",
   "metadata": {},
   "outputs": [
    {
     "name": "stdout",
     "output_type": "stream",
     "text": [
      "<class 'pandas.core.frame.DataFrame'>\n",
      "RangeIndex: 3000888 entries, 0 to 3000887\n",
      "Data columns (total 5 columns):\n",
      " #   Column       Dtype  \n",
      "---  ------       -----  \n",
      " 0   date         object \n",
      " 1   store_nbr    int64  \n",
      " 2   family       object \n",
      " 3   sales        float64\n",
      " 4   onpromotion  int64  \n",
      "dtypes: float64(1), int64(2), object(2)\n",
      "memory usage: 114.5+ MB\n"
     ]
    }
   ],
   "source": [
    "# Check train.csv for general information\n",
    "df = pd.read_csv(\"train.csv\")\n",
    "df=df.drop(columns=\"id\")\n",
    "df.info()"
   ]
  },
  {
   "cell_type": "code",
   "execution_count": 31,
   "id": "784c04ee-a838-45fd-b90d-c1c87bfb3ce5",
   "metadata": {},
   "outputs": [
    {
     "data": {
      "text/plain": [
       "(3000888, 5)"
      ]
     },
     "execution_count": 31,
     "metadata": {},
     "output_type": "execute_result"
    }
   ],
   "source": [
    "df.shape"
   ]
  },
  {
   "cell_type": "code",
   "execution_count": 32,
   "id": "d7fced93-e852-474b-8d4a-93b741258d33",
   "metadata": {},
   "outputs": [
    {
     "data": {
      "text/html": [
       "<div>\n",
       "<style scoped>\n",
       "    .dataframe tbody tr th:only-of-type {\n",
       "        vertical-align: middle;\n",
       "    }\n",
       "\n",
       "    .dataframe tbody tr th {\n",
       "        vertical-align: top;\n",
       "    }\n",
       "\n",
       "    .dataframe thead th {\n",
       "        text-align: right;\n",
       "    }\n",
       "</style>\n",
       "<table border=\"1\" class=\"dataframe\">\n",
       "  <thead>\n",
       "    <tr style=\"text-align: right;\">\n",
       "      <th></th>\n",
       "      <th>date</th>\n",
       "      <th>store_nbr</th>\n",
       "      <th>family</th>\n",
       "      <th>sales</th>\n",
       "      <th>onpromotion</th>\n",
       "    </tr>\n",
       "  </thead>\n",
       "  <tbody>\n",
       "    <tr>\n",
       "      <th>0</th>\n",
       "      <td>2013-01-01</td>\n",
       "      <td>1</td>\n",
       "      <td>AUTOMOTIVE</td>\n",
       "      <td>0.0</td>\n",
       "      <td>0</td>\n",
       "    </tr>\n",
       "    <tr>\n",
       "      <th>1</th>\n",
       "      <td>2013-01-01</td>\n",
       "      <td>1</td>\n",
       "      <td>BABY CARE</td>\n",
       "      <td>0.0</td>\n",
       "      <td>0</td>\n",
       "    </tr>\n",
       "    <tr>\n",
       "      <th>2</th>\n",
       "      <td>2013-01-01</td>\n",
       "      <td>1</td>\n",
       "      <td>BEAUTY</td>\n",
       "      <td>0.0</td>\n",
       "      <td>0</td>\n",
       "    </tr>\n",
       "    <tr>\n",
       "      <th>3</th>\n",
       "      <td>2013-01-01</td>\n",
       "      <td>1</td>\n",
       "      <td>BEVERAGES</td>\n",
       "      <td>0.0</td>\n",
       "      <td>0</td>\n",
       "    </tr>\n",
       "    <tr>\n",
       "      <th>4</th>\n",
       "      <td>2013-01-01</td>\n",
       "      <td>1</td>\n",
       "      <td>BOOKS</td>\n",
       "      <td>0.0</td>\n",
       "      <td>0</td>\n",
       "    </tr>\n",
       "  </tbody>\n",
       "</table>\n",
       "</div>"
      ],
      "text/plain": [
       "         date  store_nbr      family  sales  onpromotion\n",
       "0  2013-01-01          1  AUTOMOTIVE    0.0            0\n",
       "1  2013-01-01          1   BABY CARE    0.0            0\n",
       "2  2013-01-01          1      BEAUTY    0.0            0\n",
       "3  2013-01-01          1   BEVERAGES    0.0            0\n",
       "4  2013-01-01          1       BOOKS    0.0            0"
      ]
     },
     "execution_count": 32,
     "metadata": {},
     "output_type": "execute_result"
    }
   ],
   "source": [
    "df.head()"
   ]
  },
  {
   "cell_type": "code",
   "execution_count": 33,
   "id": "44d41eb9-d197-4662-a0de-33035caf4e0f",
   "metadata": {},
   "outputs": [
    {
     "data": {
      "text/plain": [
       "0"
      ]
     },
     "execution_count": 33,
     "metadata": {},
     "output_type": "execute_result"
    }
   ],
   "source": [
    "# check for duplicated rows\n",
    "df.duplicated().sum()"
   ]
  },
  {
   "cell_type": "code",
   "execution_count": 34,
   "id": "1f7fb3b9-328d-4ed4-bf69-5d86fce170f0",
   "metadata": {},
   "outputs": [
    {
     "data": {
      "text/plain": [
       "date           0\n",
       "store_nbr      0\n",
       "family         0\n",
       "sales          0\n",
       "onpromotion    0\n",
       "dtype: int64"
      ]
     },
     "execution_count": 34,
     "metadata": {},
     "output_type": "execute_result"
    }
   ],
   "source": [
    "# check for null values\n",
    "df.isnull().sum()"
   ]
  },
  {
   "cell_type": "code",
   "execution_count": 35,
   "id": "01eb5b4f-9228-44ea-b910-ef8377b87c76",
   "metadata": {},
   "outputs": [
    {
     "data": {
      "text/html": [
       "<div>\n",
       "<style scoped>\n",
       "    .dataframe tbody tr th:only-of-type {\n",
       "        vertical-align: middle;\n",
       "    }\n",
       "\n",
       "    .dataframe tbody tr th {\n",
       "        vertical-align: top;\n",
       "    }\n",
       "\n",
       "    .dataframe thead th {\n",
       "        text-align: right;\n",
       "    }\n",
       "</style>\n",
       "<table border=\"1\" class=\"dataframe\">\n",
       "  <thead>\n",
       "    <tr style=\"text-align: right;\">\n",
       "      <th></th>\n",
       "      <th>date</th>\n",
       "      <th>store_nbr</th>\n",
       "      <th>family</th>\n",
       "      <th>sales</th>\n",
       "      <th>onpromotion</th>\n",
       "      <th>store_promo</th>\n",
       "    </tr>\n",
       "  </thead>\n",
       "  <tbody>\n",
       "    <tr>\n",
       "      <th>810784</th>\n",
       "      <td>2014-04-01</td>\n",
       "      <td>9</td>\n",
       "      <td>CLEANING</td>\n",
       "      <td>1752.00000</td>\n",
       "      <td>3</td>\n",
       "      <td>8</td>\n",
       "    </tr>\n",
       "    <tr>\n",
       "      <th>810789</th>\n",
       "      <td>2014-04-01</td>\n",
       "      <td>9</td>\n",
       "      <td>GROCERY I</td>\n",
       "      <td>7685.00000</td>\n",
       "      <td>5</td>\n",
       "      <td>8</td>\n",
       "    </tr>\n",
       "    <tr>\n",
       "      <th>812571</th>\n",
       "      <td>2014-04-02</td>\n",
       "      <td>9</td>\n",
       "      <td>GROCERY I</td>\n",
       "      <td>6481.00000</td>\n",
       "      <td>3</td>\n",
       "      <td>4</td>\n",
       "    </tr>\n",
       "    <tr>\n",
       "      <th>812587</th>\n",
       "      <td>2014-04-02</td>\n",
       "      <td>9</td>\n",
       "      <td>POULTRY</td>\n",
       "      <td>613.71704</td>\n",
       "      <td>1</td>\n",
       "      <td>4</td>\n",
       "    </tr>\n",
       "    <tr>\n",
       "      <th>814346</th>\n",
       "      <td>2014-04-03</td>\n",
       "      <td>9</td>\n",
       "      <td>BREAD/BAKERY</td>\n",
       "      <td>521.00000</td>\n",
       "      <td>1</td>\n",
       "      <td>120</td>\n",
       "    </tr>\n",
       "  </tbody>\n",
       "</table>\n",
       "</div>"
      ],
      "text/plain": [
       "              date  store_nbr        family       sales  onpromotion  \\\n",
       "810784  2014-04-01          9      CLEANING  1752.00000            3   \n",
       "810789  2014-04-01          9     GROCERY I  7685.00000            5   \n",
       "812571  2014-04-02          9     GROCERY I  6481.00000            3   \n",
       "812587  2014-04-02          9       POULTRY   613.71704            1   \n",
       "814346  2014-04-03          9  BREAD/BAKERY   521.00000            1   \n",
       "\n",
       "        store_promo  \n",
       "810784            8  \n",
       "810789            8  \n",
       "812571            4  \n",
       "812587            4  \n",
       "814346          120  "
      ]
     },
     "execution_count": 35,
     "metadata": {},
     "output_type": "execute_result"
    }
   ],
   "source": [
    "# Add a \"store_promo\" column for store transaction forecasting\n",
    "df[\"store_promo\"] = df.groupby([\"date\", \"store_nbr\"])[\"onpromotion\"].transform(\"sum\")\n",
    "df[df[\"onpromotion\"]!=0].head()"
   ]
  },
  {
   "cell_type": "markdown",
   "id": "5e3293fe-a1aa-41e9-bc28-3b358f3c4050",
   "metadata": {},
   "source": [
    "Too many rows; look for ways to eliminate dateset."
   ]
  },
  {
   "cell_type": "code",
   "execution_count": 36,
   "id": "20651737-7d9f-4378-a1d7-e4d2665e75d6",
   "metadata": {},
   "outputs": [
    {
     "data": {
      "image/png": "[encoded data removed]",
      "text/plain": [
       "<Figure size 1500x500 with 1 Axes>"
      ]
     },
     "metadata": {},
     "output_type": "display_data"
    }
   ],
   "source": [
    "# Group by store_nbr, sum sales, and sort the values\n",
    "df_store_sale = df.groupby(\"store_nbr\")[\"sales\"].sum().sort_values(ascending=False)\n",
    "percts = df_store_sale / df_store_sale.sum() * 100  # Calculate each bar's percentage\n",
    "\n",
    "# Convert the series to a DataFrame and reset the index\n",
    "df_store_sale = df_store_sale.reset_index()\n",
    "\n",
    "fig, ax = plt.subplots(figsize=(15,5))\n",
    "bars = ax.bar(df_store_sale.index, df_store_sale[\"sales\"])\n",
    "ax.bar_label(bars, labels=[f\"{p:.0f}%\" for p in percts])\n",
    "\n",
    "plt.xlabel(\"Stores\")\n",
    "plt.ylabel(\"Sales\")\n",
    "plt.title(\"Sales Unit by Store\")\n",
    "\n",
    "# Set the x-ticks and labels\n",
    "plt.xticks(ticks=df_store_sale.index, labels=df_store_sale[\"store_nbr\"], rotation=90)\n",
    "\n",
    "plt.show()"
   ]
  },
  {
   "cell_type": "code",
   "execution_count": 37,
   "id": "b8c287bc-5447-458c-9b8d-841b1da69d9f",
   "metadata": {},
   "outputs": [],
   "source": [
    "# get the store numbers in Quito\n",
    "df_store = pd.read_csv(\"stores.csv\")\n",
    "quito_store_list = list(df_store[df_store[\"city\"] == \"Quito\"][\"store_nbr\"])"
   ]
  },
  {
   "cell_type": "code",
   "execution_count": 38,
   "id": "ba80c4af-44ff-40d3-83d9-9742c15034e0",
   "metadata": {},
   "outputs": [
    {
     "data": {
      "text/plain": [
       "[1, 2, 3, 4, 6, 7, 8, 9, 10, 17, 18, 20, 44, 45, 46, 47, 48, 49]"
      ]
     },
     "execution_count": 38,
     "metadata": {},
     "output_type": "execute_result"
    }
   ],
   "source": [
    "# check for stores in Quito, the capital city\n",
    "quito_store_list"
   ]
  },
  {
   "cell_type": "code",
   "execution_count": 39,
   "id": "7ae15762-cc86-44ae-87fc-74420b44440f",
   "metadata": {},
   "outputs": [
    {
     "data": {
      "text/plain": [
       "51.86"
      ]
     },
     "execution_count": 39,
     "metadata": {},
     "output_type": "execute_result"
    }
   ],
   "source": [
    "# sales proportion of stores in Quito\n",
    "df_quito = df_store_sale[df_store_sale[\"store_nbr\"].isin(quito_store_list)]\n",
    "round(df_quito[\"sales\"].sum()/df_store_sale[\"sales\"].sum() * 100,2)"
   ]
  },
  {
   "cell_type": "code",
   "execution_count": 40,
   "id": "a47b9e57-3a1a-476a-8b66-e4e29703fff5",
   "metadata": {},
   "outputs": [
    {
     "data": {
      "image/png": "[encoded data removed]",
      "text/plain": [
       "<Figure size 800x600 with 1 Axes>"
      ]
     },
     "metadata": {},
     "output_type": "display_data"
    }
   ],
   "source": [
    "# plot the sales by product family\n",
    "df_family = df.groupby([\"family\"])[\"sales\"].sum().sort_values()\n",
    "percts = df_family/df_family.sum()*100  #calculate each bar's percentage\n",
    "\n",
    "fig, ax = plt.subplots(figsize=(8,6))\n",
    "bars = ax.barh(df_family.index,df_family.values)\n",
    "ax.bar_label(bars,labels=[f\"{p:.0f}%\" for p in percts])\n",
    "plt.xlabel(\"sales\")\n",
    "plt.ylabel(\"family\")\n",
    "plt.title(\"Sales Unit by Product Family\")\n",
    "plt.show()"
   ]
  },
  {
   "cell_type": "markdown",
   "id": "fbc7f795-356d-4fc9-a70a-81bdc937b242",
   "metadata": {},
   "source": [
    "#### 51% of sales come from stores in Quito; the top 3 categories' sales account for 63% of the total sales. The business heavily depends on Grocery I. To reduce the number of rows from 3 million to 500,000, we can focus on predicting main product categories of stores in the capital city."
   ]
  },
  {
   "cell_type": "code",
   "execution_count": 41,
   "id": "1a3ff42c-469d-4577-9455-8c9e8e6d0b94",
   "metadata": {},
   "outputs": [
    {
     "name": "stdout",
     "output_type": "stream",
     "text": [
      "<class 'pandas.core.frame.DataFrame'>\n",
      "Index: 151560 entries, 3 to 3000885\n",
      "Data columns (total 6 columns):\n",
      " #   Column       Non-Null Count   Dtype  \n",
      "---  ------       --------------   -----  \n",
      " 0   date         151560 non-null  object \n",
      " 1   store_nbr    151560 non-null  int64  \n",
      " 2   family       151560 non-null  object \n",
      " 3   sales        151560 non-null  float64\n",
      " 4   onpromotion  151560 non-null  int64  \n",
      " 5   store_promo  151560 non-null  int64  \n",
      "dtypes: float64(1), int64(3), object(2)\n",
      "memory usage: 8.1+ MB\n"
     ]
    }
   ],
   "source": [
    "df_crop = df[(df[\"family\"].isin([\"GROCERY I\", 'BEVERAGES','PRODUCE', 'CLEANING','DAIRY'])) & (df[\"store_nbr\"].isin(quito_store_list))]\n",
    "df_crop.info()"
   ]
  },
  {
   "cell_type": "markdown",
   "id": "c781940d-4cd6-429f-9ea6-dc26baad797a",
   "metadata": {},
   "source": [
    "#### The cropped dataset is within the right range. Save df_crop as the main sales table for further analysis."
   ]
  },
  {
   "cell_type": "code",
   "execution_count": 42,
   "id": "a7c3d354-77d7-4b89-a6a2-9bd677fbfc69",
   "metadata": {},
   "outputs": [],
   "source": [
    "# save df_crop as sales.csv\n",
    "df_crop.to_csv('sales.csv', index=False)"
   ]
  },
  {
   "cell_type": "code",
   "execution_count": 43,
   "id": "19a6cafb-0f0b-486d-99ab-27e310029e46",
   "metadata": {},
   "outputs": [
    {
     "data": {
      "text/html": [
       "<div>\n",
       "<style scoped>\n",
       "    .dataframe tbody tr th:only-of-type {\n",
       "        vertical-align: middle;\n",
       "    }\n",
       "\n",
       "    .dataframe tbody tr th {\n",
       "        vertical-align: top;\n",
       "    }\n",
       "\n",
       "    .dataframe thead th {\n",
       "        text-align: right;\n",
       "    }\n",
       "</style>\n",
       "<table border=\"1\" class=\"dataframe\">\n",
       "  <thead>\n",
       "    <tr style=\"text-align: right;\">\n",
       "      <th></th>\n",
       "      <th>date</th>\n",
       "      <th>store_nbr</th>\n",
       "      <th>family</th>\n",
       "      <th>sales</th>\n",
       "      <th>onpromotion</th>\n",
       "      <th>store_promo</th>\n",
       "    </tr>\n",
       "  </thead>\n",
       "  <tbody>\n",
       "    <tr>\n",
       "      <th>0</th>\n",
       "      <td>2013-01-01</td>\n",
       "      <td>1</td>\n",
       "      <td>BEVERAGES</td>\n",
       "      <td>0.0</td>\n",
       "      <td>0</td>\n",
       "      <td>0</td>\n",
       "    </tr>\n",
       "    <tr>\n",
       "      <th>1</th>\n",
       "      <td>2013-01-01</td>\n",
       "      <td>1</td>\n",
       "      <td>CLEANING</td>\n",
       "      <td>0.0</td>\n",
       "      <td>0</td>\n",
       "      <td>0</td>\n",
       "    </tr>\n",
       "    <tr>\n",
       "      <th>2</th>\n",
       "      <td>2013-01-01</td>\n",
       "      <td>1</td>\n",
       "      <td>DAIRY</td>\n",
       "      <td>0.0</td>\n",
       "      <td>0</td>\n",
       "      <td>0</td>\n",
       "    </tr>\n",
       "    <tr>\n",
       "      <th>3</th>\n",
       "      <td>2013-01-01</td>\n",
       "      <td>1</td>\n",
       "      <td>GROCERY I</td>\n",
       "      <td>0.0</td>\n",
       "      <td>0</td>\n",
       "      <td>0</td>\n",
       "    </tr>\n",
       "    <tr>\n",
       "      <th>4</th>\n",
       "      <td>2013-01-01</td>\n",
       "      <td>1</td>\n",
       "      <td>PRODUCE</td>\n",
       "      <td>0.0</td>\n",
       "      <td>0</td>\n",
       "      <td>0</td>\n",
       "    </tr>\n",
       "  </tbody>\n",
       "</table>\n",
       "</div>"
      ],
      "text/plain": [
       "         date  store_nbr     family  sales  onpromotion  store_promo\n",
       "0  2013-01-01          1  BEVERAGES    0.0            0            0\n",
       "1  2013-01-01          1   CLEANING    0.0            0            0\n",
       "2  2013-01-01          1      DAIRY    0.0            0            0\n",
       "3  2013-01-01          1  GROCERY I    0.0            0            0\n",
       "4  2013-01-01          1    PRODUCE    0.0            0            0"
      ]
     },
     "execution_count": 43,
     "metadata": {},
     "output_type": "execute_result"
    }
   ],
   "source": [
    "# load sales.csv\n",
    "df = pd.read_csv(\"sales.csv\")\n",
    "df.head()"
   ]
  },
  {
   "cell_type": "code",
   "execution_count": 44,
   "id": "0637e568-608e-4687-92ae-f1e717f3d2ca",
   "metadata": {},
   "outputs": [
    {
     "name": "stdout",
     "output_type": "stream",
     "text": [
      "<class 'pandas.core.frame.DataFrame'>\n",
      "RangeIndex: 151560 entries, 0 to 151559\n",
      "Data columns (total 6 columns):\n",
      " #   Column       Non-Null Count   Dtype  \n",
      "---  ------       --------------   -----  \n",
      " 0   date         151560 non-null  object \n",
      " 1   store_nbr    151560 non-null  int64  \n",
      " 2   family       151560 non-null  object \n",
      " 3   sales        151560 non-null  float64\n",
      " 4   onpromotion  151560 non-null  int64  \n",
      " 5   store_promo  151560 non-null  int64  \n",
      "dtypes: float64(1), int64(3), object(2)\n",
      "memory usage: 6.9+ MB\n"
     ]
    }
   ],
   "source": [
    "# check for data types\n",
    "df.info()"
   ]
  },
  {
   "cell_type": "code",
   "execution_count": 45,
   "id": "cc45b55d-073f-45e0-8635-b582124d370d",
   "metadata": {},
   "outputs": [
    {
     "data": {
      "text/html": [
       "<div>\n",
       "<style scoped>\n",
       "    .dataframe tbody tr th:only-of-type {\n",
       "        vertical-align: middle;\n",
       "    }\n",
       "\n",
       "    .dataframe tbody tr th {\n",
       "        vertical-align: top;\n",
       "    }\n",
       "\n",
       "    .dataframe thead th {\n",
       "        text-align: right;\n",
       "    }\n",
       "</style>\n",
       "<table border=\"1\" class=\"dataframe\">\n",
       "  <thead>\n",
       "    <tr style=\"text-align: right;\">\n",
       "      <th></th>\n",
       "      <th>date</th>\n",
       "      <th>store_nbr</th>\n",
       "      <th>sales</th>\n",
       "      <th>onpromotion</th>\n",
       "      <th>store_promo</th>\n",
       "    </tr>\n",
       "  </thead>\n",
       "  <tbody>\n",
       "    <tr>\n",
       "      <th>count</th>\n",
       "      <td>151560</td>\n",
       "      <td>151560.000000</td>\n",
       "      <td>151560.000000</td>\n",
       "      <td>151560.000000</td>\n",
       "      <td>151560.000000</td>\n",
       "    </tr>\n",
       "    <tr>\n",
       "      <th>mean</th>\n",
       "      <td>2015-04-24 08:27:04.703087872</td>\n",
       "      <td>21.333333</td>\n",
       "      <td>2867.517587</td>\n",
       "      <td>13.155655</td>\n",
       "      <td>97.814760</td>\n",
       "    </tr>\n",
       "    <tr>\n",
       "      <th>min</th>\n",
       "      <td>2013-01-01 00:00:00</td>\n",
       "      <td>1.000000</td>\n",
       "      <td>0.000000</td>\n",
       "      <td>0.000000</td>\n",
       "      <td>0.000000</td>\n",
       "    </tr>\n",
       "    <tr>\n",
       "      <th>25%</th>\n",
       "      <td>2014-02-26 18:00:00</td>\n",
       "      <td>6.000000</td>\n",
       "      <td>841.000000</td>\n",
       "      <td>0.000000</td>\n",
       "      <td>0.000000</td>\n",
       "    </tr>\n",
       "    <tr>\n",
       "      <th>50%</th>\n",
       "      <td>2015-04-24 12:00:00</td>\n",
       "      <td>13.500000</td>\n",
       "      <td>1893.000000</td>\n",
       "      <td>1.000000</td>\n",
       "      <td>30.000000</td>\n",
       "    </tr>\n",
       "    <tr>\n",
       "      <th>75%</th>\n",
       "      <td>2016-06-19 06:00:00</td>\n",
       "      <td>45.000000</td>\n",
       "      <td>3837.000000</td>\n",
       "      <td>12.000000</td>\n",
       "      <td>182.000000</td>\n",
       "    </tr>\n",
       "    <tr>\n",
       "      <th>max</th>\n",
       "      <td>2017-08-15 00:00:00</td>\n",
       "      <td>49.000000</td>\n",
       "      <td>124717.000000</td>\n",
       "      <td>252.000000</td>\n",
       "      <td>727.000000</td>\n",
       "    </tr>\n",
       "    <tr>\n",
       "      <th>std</th>\n",
       "      <td>NaN</td>\n",
       "      <td>18.517320</td>\n",
       "      <td>3058.180409</td>\n",
       "      <td>29.823250</td>\n",
       "      <td>123.646587</td>\n",
       "    </tr>\n",
       "  </tbody>\n",
       "</table>\n",
       "</div>"
      ],
      "text/plain": [
       "                                date      store_nbr          sales  \\\n",
       "count                         151560  151560.000000  151560.000000   \n",
       "mean   2015-04-24 08:27:04.703087872      21.333333    2867.517587   \n",
       "min              2013-01-01 00:00:00       1.000000       0.000000   \n",
       "25%              2014-02-26 18:00:00       6.000000     841.000000   \n",
       "50%              2015-04-24 12:00:00      13.500000    1893.000000   \n",
       "75%              2016-06-19 06:00:00      45.000000    3837.000000   \n",
       "max              2017-08-15 00:00:00      49.000000  124717.000000   \n",
       "std                              NaN      18.517320    3058.180409   \n",
       "\n",
       "         onpromotion    store_promo  \n",
       "count  151560.000000  151560.000000  \n",
       "mean       13.155655      97.814760  \n",
       "min         0.000000       0.000000  \n",
       "25%         0.000000       0.000000  \n",
       "50%         1.000000      30.000000  \n",
       "75%        12.000000     182.000000  \n",
       "max       252.000000     727.000000  \n",
       "std        29.823250     123.646587  "
      ]
     },
     "execution_count": 45,
     "metadata": {},
     "output_type": "execute_result"
    }
   ],
   "source": [
    "# convert date to datetime\n",
    "df[\"date\"] = pd.to_datetime(df[\"date\"])  # Ensure the date column is in datetime format\n",
    "df.describe()"
   ]
  },
  {
   "cell_type": "code",
   "execution_count": 46,
   "id": "0fab5a77-85f2-4bf1-8485-0bd23a0a4110",
   "metadata": {},
   "outputs": [
    {
     "data": {
      "text/plain": [
       "array(['BEVERAGES', 'CLEANING', 'DAIRY', 'GROCERY I', 'PRODUCE'],\n",
       "      dtype=object)"
      ]
     },
     "execution_count": 46,
     "metadata": {},
     "output_type": "execute_result"
    }
   ],
   "source": [
    "# check for product families\n",
    "df[\"family\"].unique()"
   ]
  },
  {
   "cell_type": "code",
   "execution_count": 47,
   "id": "39070c24-e157-4db3-a6e9-dc0d6340353b",
   "metadata": {},
   "outputs": [
    {
     "data": {
      "text/plain": [
       "18"
      ]
     },
     "execution_count": 47,
     "metadata": {},
     "output_type": "execute_result"
    }
   ],
   "source": [
    "# check for the number of stores\n",
    "df[\"store_nbr\"].nunique()"
   ]
  },
  {
   "cell_type": "markdown",
   "id": "4c2449fe-aac9-47b3-8584-7f047ae41464",
   "metadata": {},
   "source": [
    "#### In the cropped dataset, there are no null values. The data has 151,560 rows and 5 columns. The target column is \"sales\". \n",
    "\n",
    "#### Data are from Jan 2013 to Aug 2017. The data contains 5 product categories in 18 stores. \n",
    "\n",
    "#### Project objective: predict sales units of 5 categories across 18 stores on certain dates."
   ]
  },
  {
   "cell_type": "markdown",
   "id": "63cecab7-2804-4ad2-93ae-acdbf292d453",
   "metadata": {},
   "source": [
    "### Checking for trends"
   ]
  },
  {
   "cell_type": "code",
   "execution_count": 48,
   "id": "09c4d8ea-ff41-4e1a-ad33-0f70fe65b6a7",
   "metadata": {},
   "outputs": [
    {
     "data": {
      "image/png": "[encoded data removed]",
      "text/plain": [
       "<Figure size 1000x300 with 2 Axes>"
      ]
     },
     "metadata": {},
     "output_type": "display_data"
    },
    {
     "data": {
      "image/png": "[encoded data removed]",
      "text/plain": [
       "<Figure size 1200x300 with 1 Axes>"
      ]
     },
     "metadata": {},
     "output_type": "display_data"
    }
   ],
   "source": [
    "# Take out the incomplete data for plotting\n",
    "df2 = df[df[\"date\"].dt.year<2017]\n",
    "df3 = df[df[\"date\"]<'2017-08-01']\n",
    "\n",
    "plt.figure(figsize=(10,3))\n",
    "# plot based on years\n",
    "plt.subplot(1,2,1)\n",
    "year_sales=df.groupby(df[\"date\"].dt.year)[\"sales\"].sum()\n",
    "plt.bar(year_sales.index,height=year_sales.values)\n",
    "plt.xlabel(\"year\")\n",
    "plt.ylabel(\"unit of sales\")\n",
    "plt.title(\"Sales by Year\")\n",
    "\n",
    "# plot based on month\n",
    "plt.subplot(1,2,2)\n",
    "month_sales=df2.groupby(df[\"date\"].dt.month)[\"sales\"].sum()\n",
    "plt.plot(month_sales.index, month_sales.values)\n",
    "plt.xlabel(\"month\")\n",
    "plt.ylabel(\"unit of sales\")\n",
    "plt.title(\"Sales by Month (2013-2016)\")\n",
    "plt.xticks(month_sales.index)\n",
    "plt.tight_layout()\n",
    "plt.show()\n",
    "\n",
    "# plot based on day\n",
    "plt.figure(figsize=(12,3))\n",
    "day_sales=df3.groupby(df[\"date\"].dt.day)[\"sales\"].sum()\n",
    "plt.plot(day_sales.index, day_sales.values)\n",
    "plt.xlabel(\"day\")\n",
    "plt.ylabel(\"unit of sales\")\n",
    "plt.title(\"Sales by Day (Up to Jul 31st, 2017)\")\n",
    "plt.xticks(day_sales.index)\n",
    "plt.show()"
   ]
  },
  {
   "cell_type": "markdown",
   "id": "0376fab4-9b93-4d0b-ae0b-c2b260c6ee95",
   "metadata": {},
   "source": [
    "#### - From 2013 to 2016, sales increased steadily. The lower sales in 2017 are due to incomplete dates of the dataset. \n",
    "\n",
    "#### - Overall, sales increase month by month, peaking in December. March, July, and December show high month-over-month growth.\n",
    "\n",
    "#### - Sales decrease steadily during the first 14 days, with an increase on day 15, then remain stable until day 25 before witnessing a significant drop. Day 31 has the lowest sales.\n",
    "\n",
    "#### Let's take a look at the promotion trends."
   ]
  },
  {
   "cell_type": "code",
   "execution_count": 49,
   "id": "32168267-d6b1-4ce7-a31b-1cb1780222a9",
   "metadata": {},
   "outputs": [
    {
     "data": {
      "image/png": "[encoded data removed]",
      "text/plain": [
       "<Figure size 1000x300 with 2 Axes>"
      ]
     },
     "metadata": {},
     "output_type": "display_data"
    },
    {
     "data": {
      "image/png": "[encoded data removed]",
      "text/plain": [
       "<Figure size 1200x300 with 1 Axes>"
      ]
     },
     "metadata": {},
     "output_type": "display_data"
    }
   ],
   "source": [
    "# Take out the incomplete data for plotting\n",
    "df2 = df[df[\"date\"].dt.year<2017]\n",
    "df3 = df[df[\"date\"]<'2017-08-01']\n",
    "\n",
    "plt.figure(figsize=(10,3))\n",
    "# plot based on years\n",
    "plt.subplot(1,2,1)\n",
    "year_promo=df.groupby(df[\"date\"].dt.year)[\"onpromotion\"].sum()\n",
    "plt.bar(year_promo.index,height=year_promo.values)\n",
    "plt.xlabel(\"year\")\n",
    "plt.ylabel(\"num of items on promotion\")\n",
    "plt.title(\"Promotions by Year\")\n",
    "\n",
    "# plot based on month\n",
    "plt.subplot(1,2,2)\n",
    "month_promo=df2.groupby(df[\"date\"].dt.month)[\"onpromotion\"].sum()\n",
    "plt.plot(month_promo.index, month_promo.values)\n",
    "plt.xlabel(\"month\")\n",
    "plt.ylabel(\"num of items on promotion\")\n",
    "plt.title(\"Promotions by Month (2013-2016)\")\n",
    "plt.xticks(month_promo.index)\n",
    "plt.tight_layout()\n",
    "plt.show()\n",
    "\n",
    "# plot based on day\n",
    "plt.figure(figsize=(12,3))\n",
    "day_promo=df3.groupby(df[\"date\"].dt.day)[\"onpromotion\"].sum()\n",
    "plt.plot(day_promo.index, day_promo.values)\n",
    "plt.xlabel(\"day\")\n",
    "plt.ylabel(\"num of items on promotion\")\n",
    "plt.title(\"Promotions by Day (Up to Jul 31st, 2017)\")\n",
    "plt.xticks(day_promo.index)\n",
    "plt.show()"
   ]
  },
  {
   "cell_type": "markdown",
   "id": "8287790a-e233-440f-bf28-af6c20cb2919",
   "metadata": {},
   "source": [
    "#### - Promotions follow similar monthly trends as sales. However, the daily trends of promotions and sales vary greatly. Compared to previous years, 2016 saw a significant increase in products on promotion."
   ]
  },
  {
   "cell_type": "markdown",
   "id": "dc0d0fe3-257a-4926-8fef-db7fb6d8d0e4",
   "metadata": {},
   "source": [
    "### 2. Quito Store Table EDA"
   ]
  },
  {
   "cell_type": "code",
   "execution_count": 50,
   "id": "12b7dfc1-0ee8-4e5f-b78f-1f9fdc18f327",
   "metadata": {},
   "outputs": [
    {
     "name": "stdout",
     "output_type": "stream",
     "text": [
      "<class 'pandas.core.frame.DataFrame'>\n",
      "RangeIndex: 54 entries, 0 to 53\n",
      "Data columns (total 5 columns):\n",
      " #   Column     Non-Null Count  Dtype \n",
      "---  ------     --------------  ----- \n",
      " 0   store_nbr  54 non-null     int64 \n",
      " 1   city       54 non-null     object\n",
      " 2   state      54 non-null     object\n",
      " 3   type       54 non-null     object\n",
      " 4   cluster    54 non-null     int64 \n",
      "dtypes: int64(2), object(3)\n",
      "memory usage: 2.2+ KB\n"
     ]
    }
   ],
   "source": [
    "# check for store info\n",
    "df_store = pd.read_csv(\"stores.csv\")\n",
    "df_store.info()"
   ]
  },
  {
   "cell_type": "code",
   "execution_count": 51,
   "id": "80b44656-41a2-4794-a368-2f683026ebf6",
   "metadata": {},
   "outputs": [
    {
     "data": {
      "text/plain": [
       "0"
      ]
     },
     "execution_count": 51,
     "metadata": {},
     "output_type": "execute_result"
    }
   ],
   "source": [
    "# check for duplicated rows\n",
    "df_store.duplicated().sum()"
   ]
  },
  {
   "cell_type": "code",
   "execution_count": 52,
   "id": "fed0537a-bf92-4a70-aa2e-612846dffb44",
   "metadata": {},
   "outputs": [
    {
     "data": {
      "text/plain": [
       "store_nbr    0\n",
       "city         0\n",
       "state        0\n",
       "type         0\n",
       "cluster      0\n",
       "dtype: int64"
      ]
     },
     "execution_count": 52,
     "metadata": {},
     "output_type": "execute_result"
    }
   ],
   "source": [
    "# check for null\n",
    "df_store.isnull().sum()"
   ]
  },
  {
   "cell_type": "code",
   "execution_count": 53,
   "id": "549ac031-0864-4fda-9c4f-5c4da15caa45",
   "metadata": {},
   "outputs": [
    {
     "data": {
      "text/html": [
       "<div>\n",
       "<style scoped>\n",
       "    .dataframe tbody tr th:only-of-type {\n",
       "        vertical-align: middle;\n",
       "    }\n",
       "\n",
       "    .dataframe tbody tr th {\n",
       "        vertical-align: top;\n",
       "    }\n",
       "\n",
       "    .dataframe thead th {\n",
       "        text-align: right;\n",
       "    }\n",
       "</style>\n",
       "<table border=\"1\" class=\"dataframe\">\n",
       "  <thead>\n",
       "    <tr style=\"text-align: right;\">\n",
       "      <th></th>\n",
       "      <th>store_nbr</th>\n",
       "      <th>city</th>\n",
       "      <th>state</th>\n",
       "      <th>type</th>\n",
       "      <th>cluster</th>\n",
       "    </tr>\n",
       "  </thead>\n",
       "  <tbody>\n",
       "    <tr>\n",
       "      <th>0</th>\n",
       "      <td>1</td>\n",
       "      <td>Quito</td>\n",
       "      <td>Pichincha</td>\n",
       "      <td>D</td>\n",
       "      <td>13</td>\n",
       "    </tr>\n",
       "    <tr>\n",
       "      <th>1</th>\n",
       "      <td>2</td>\n",
       "      <td>Quito</td>\n",
       "      <td>Pichincha</td>\n",
       "      <td>D</td>\n",
       "      <td>13</td>\n",
       "    </tr>\n",
       "    <tr>\n",
       "      <th>2</th>\n",
       "      <td>3</td>\n",
       "      <td>Quito</td>\n",
       "      <td>Pichincha</td>\n",
       "      <td>D</td>\n",
       "      <td>8</td>\n",
       "    </tr>\n",
       "    <tr>\n",
       "      <th>3</th>\n",
       "      <td>4</td>\n",
       "      <td>Quito</td>\n",
       "      <td>Pichincha</td>\n",
       "      <td>D</td>\n",
       "      <td>9</td>\n",
       "    </tr>\n",
       "    <tr>\n",
       "      <th>4</th>\n",
       "      <td>5</td>\n",
       "      <td>Santo Domingo</td>\n",
       "      <td>Santo Domingo de los Tsachilas</td>\n",
       "      <td>D</td>\n",
       "      <td>4</td>\n",
       "    </tr>\n",
       "  </tbody>\n",
       "</table>\n",
       "</div>"
      ],
      "text/plain": [
       "   store_nbr           city                           state type  cluster\n",
       "0          1          Quito                       Pichincha    D       13\n",
       "1          2          Quito                       Pichincha    D       13\n",
       "2          3          Quito                       Pichincha    D        8\n",
       "3          4          Quito                       Pichincha    D        9\n",
       "4          5  Santo Domingo  Santo Domingo de los Tsachilas    D        4"
      ]
     },
     "execution_count": 53,
     "metadata": {},
     "output_type": "execute_result"
    }
   ],
   "source": [
    "df_store.head()"
   ]
  },
  {
   "cell_type": "code",
   "execution_count": 54,
   "id": "9a85d46e-5046-4bea-be1c-193aefa9b487",
   "metadata": {},
   "outputs": [
    {
     "data": {
      "image/png": "[encoded data removed]",
      "text/plain": [
       "<Figure size 1000x300 with 2 Axes>"
      ]
     },
     "metadata": {},
     "output_type": "display_data"
    }
   ],
   "source": [
    "df_store_quito = df_store[df_store[\"city\"] == \"Quito\"]\n",
    "cols=[\"type\",\"cluster\"]\n",
    "plt.figure(figsize=(10,3))\n",
    "plt.subplot(1,2,1)\n",
    "df_store_quito[\"type\"].value_counts().plot(kind=\"bar\", rot=0)\n",
    "plt.xlabel(\"store type\")\n",
    "plt.ylabel(\"count\")\n",
    "plt.title(\"Distribution of Store Types in Quito\")\n",
    "\n",
    "plt.subplot(1,2,2)\n",
    "df_store_quito[\"cluster\"].value_counts().plot(kind=\"bar\", rot=0)\n",
    "plt.xlabel(\"store cluster\")\n",
    "plt.ylabel(\"count\")\n",
    "plt.title(\"Distribution of Store Clusters in Quito\")\n",
    "\n",
    "plt.show()"
   ]
  },
  {
   "cell_type": "markdown",
   "id": "0e568f89-65fd-4fbe-9d03-3ccd87051d7d",
   "metadata": {},
   "source": [
    "#### - Of the 18 stores in Quito 7 are type D, 6 type A, 3 type B and 2 type C. They belong to 10 clusters. The clustering method is not clear. For now, let's keep the column for baseline modeling and decide later."
   ]
  },
  {
   "cell_type": "markdown",
   "id": "b5379253-63d3-4e98-bcd3-72f2435ea93d",
   "metadata": {},
   "source": [
    "#### The types of stores are in natual order, so we can convert the column to sequential numbers."
   ]
  },
  {
   "cell_type": "code",
   "execution_count": 55,
   "id": "2ba00cf1-5b27-4953-ab2e-2a1206ffb240",
   "metadata": {
    "scrolled": true
   },
   "outputs": [
    {
     "data": {
      "text/html": [
       "<div>\n",
       "<style scoped>\n",
       "    .dataframe tbody tr th:only-of-type {\n",
       "        vertical-align: middle;\n",
       "    }\n",
       "\n",
       "    .dataframe tbody tr th {\n",
       "        vertical-align: top;\n",
       "    }\n",
       "\n",
       "    .dataframe thead th {\n",
       "        text-align: right;\n",
       "    }\n",
       "</style>\n",
       "<table border=\"1\" class=\"dataframe\">\n",
       "  <thead>\n",
       "    <tr style=\"text-align: right;\">\n",
       "      <th></th>\n",
       "      <th>store_nbr</th>\n",
       "      <th>city</th>\n",
       "      <th>state</th>\n",
       "      <th>type</th>\n",
       "      <th>cluster</th>\n",
       "    </tr>\n",
       "  </thead>\n",
       "  <tbody>\n",
       "    <tr>\n",
       "      <th>0</th>\n",
       "      <td>1</td>\n",
       "      <td>Quito</td>\n",
       "      <td>Pichincha</td>\n",
       "      <td>D</td>\n",
       "      <td>13</td>\n",
       "    </tr>\n",
       "    <tr>\n",
       "      <th>1</th>\n",
       "      <td>2</td>\n",
       "      <td>Quito</td>\n",
       "      <td>Pichincha</td>\n",
       "      <td>D</td>\n",
       "      <td>13</td>\n",
       "    </tr>\n",
       "    <tr>\n",
       "      <th>2</th>\n",
       "      <td>3</td>\n",
       "      <td>Quito</td>\n",
       "      <td>Pichincha</td>\n",
       "      <td>D</td>\n",
       "      <td>8</td>\n",
       "    </tr>\n",
       "    <tr>\n",
       "      <th>3</th>\n",
       "      <td>4</td>\n",
       "      <td>Quito</td>\n",
       "      <td>Pichincha</td>\n",
       "      <td>D</td>\n",
       "      <td>9</td>\n",
       "    </tr>\n",
       "    <tr>\n",
       "      <th>4</th>\n",
       "      <td>6</td>\n",
       "      <td>Quito</td>\n",
       "      <td>Pichincha</td>\n",
       "      <td>D</td>\n",
       "      <td>13</td>\n",
       "    </tr>\n",
       "    <tr>\n",
       "      <th>5</th>\n",
       "      <td>7</td>\n",
       "      <td>Quito</td>\n",
       "      <td>Pichincha</td>\n",
       "      <td>D</td>\n",
       "      <td>8</td>\n",
       "    </tr>\n",
       "    <tr>\n",
       "      <th>6</th>\n",
       "      <td>8</td>\n",
       "      <td>Quito</td>\n",
       "      <td>Pichincha</td>\n",
       "      <td>D</td>\n",
       "      <td>8</td>\n",
       "    </tr>\n",
       "    <tr>\n",
       "      <th>7</th>\n",
       "      <td>9</td>\n",
       "      <td>Quito</td>\n",
       "      <td>Pichincha</td>\n",
       "      <td>B</td>\n",
       "      <td>6</td>\n",
       "    </tr>\n",
       "    <tr>\n",
       "      <th>8</th>\n",
       "      <td>10</td>\n",
       "      <td>Quito</td>\n",
       "      <td>Pichincha</td>\n",
       "      <td>C</td>\n",
       "      <td>15</td>\n",
       "    </tr>\n",
       "    <tr>\n",
       "      <th>9</th>\n",
       "      <td>17</td>\n",
       "      <td>Quito</td>\n",
       "      <td>Pichincha</td>\n",
       "      <td>C</td>\n",
       "      <td>12</td>\n",
       "    </tr>\n",
       "    <tr>\n",
       "      <th>10</th>\n",
       "      <td>18</td>\n",
       "      <td>Quito</td>\n",
       "      <td>Pichincha</td>\n",
       "      <td>B</td>\n",
       "      <td>16</td>\n",
       "    </tr>\n",
       "    <tr>\n",
       "      <th>11</th>\n",
       "      <td>20</td>\n",
       "      <td>Quito</td>\n",
       "      <td>Pichincha</td>\n",
       "      <td>B</td>\n",
       "      <td>6</td>\n",
       "    </tr>\n",
       "    <tr>\n",
       "      <th>12</th>\n",
       "      <td>44</td>\n",
       "      <td>Quito</td>\n",
       "      <td>Pichincha</td>\n",
       "      <td>A</td>\n",
       "      <td>5</td>\n",
       "    </tr>\n",
       "    <tr>\n",
       "      <th>13</th>\n",
       "      <td>45</td>\n",
       "      <td>Quito</td>\n",
       "      <td>Pichincha</td>\n",
       "      <td>A</td>\n",
       "      <td>11</td>\n",
       "    </tr>\n",
       "    <tr>\n",
       "      <th>14</th>\n",
       "      <td>46</td>\n",
       "      <td>Quito</td>\n",
       "      <td>Pichincha</td>\n",
       "      <td>A</td>\n",
       "      <td>14</td>\n",
       "    </tr>\n",
       "    <tr>\n",
       "      <th>15</th>\n",
       "      <td>47</td>\n",
       "      <td>Quito</td>\n",
       "      <td>Pichincha</td>\n",
       "      <td>A</td>\n",
       "      <td>14</td>\n",
       "    </tr>\n",
       "    <tr>\n",
       "      <th>16</th>\n",
       "      <td>48</td>\n",
       "      <td>Quito</td>\n",
       "      <td>Pichincha</td>\n",
       "      <td>A</td>\n",
       "      <td>14</td>\n",
       "    </tr>\n",
       "    <tr>\n",
       "      <th>17</th>\n",
       "      <td>49</td>\n",
       "      <td>Quito</td>\n",
       "      <td>Pichincha</td>\n",
       "      <td>A</td>\n",
       "      <td>11</td>\n",
       "    </tr>\n",
       "  </tbody>\n",
       "</table>\n",
       "</div>"
      ],
      "text/plain": [
       "    store_nbr   city      state type  cluster\n",
       "0           1  Quito  Pichincha    D       13\n",
       "1           2  Quito  Pichincha    D       13\n",
       "2           3  Quito  Pichincha    D        8\n",
       "3           4  Quito  Pichincha    D        9\n",
       "4           6  Quito  Pichincha    D       13\n",
       "5           7  Quito  Pichincha    D        8\n",
       "6           8  Quito  Pichincha    D        8\n",
       "7           9  Quito  Pichincha    B        6\n",
       "8          10  Quito  Pichincha    C       15\n",
       "9          17  Quito  Pichincha    C       12\n",
       "10         18  Quito  Pichincha    B       16\n",
       "11         20  Quito  Pichincha    B        6\n",
       "12         44  Quito  Pichincha    A        5\n",
       "13         45  Quito  Pichincha    A       11\n",
       "14         46  Quito  Pichincha    A       14\n",
       "15         47  Quito  Pichincha    A       14\n",
       "16         48  Quito  Pichincha    A       14\n",
       "17         49  Quito  Pichincha    A       11"
      ]
     },
     "execution_count": 55,
     "metadata": {},
     "output_type": "execute_result"
    }
   ],
   "source": [
    "df_store_quito.reset_index(drop=1)"
   ]
  },
  {
   "cell_type": "code",
   "execution_count": 56,
   "id": "d53241a1-cd96-468a-b7f2-83cde473dc79",
   "metadata": {},
   "outputs": [
    {
     "data": {
      "text/plain": [
       "array(['D', 'B', 'C', 'A'], dtype=object)"
      ]
     },
     "execution_count": 56,
     "metadata": {},
     "output_type": "execute_result"
    }
   ],
   "source": [
    "df_store_quito[\"type\"].unique()"
   ]
  },
  {
   "cell_type": "code",
   "execution_count": 57,
   "id": "a9bb04a0-c07f-4282-9d7d-943732c31a79",
   "metadata": {},
   "outputs": [],
   "source": [
    "# save the final data to a new file\n",
    "df_store_quito.to_csv(\"stores_quito.csv\", index=False)"
   ]
  },
  {
   "cell_type": "code",
   "execution_count": 58,
   "id": "fae4f9d6-5682-44a2-b88a-8be6d1b3158a",
   "metadata": {},
   "outputs": [
    {
     "name": "stdout",
     "output_type": "stream",
     "text": [
      "<class 'pandas.core.frame.DataFrame'>\n",
      "RangeIndex: 18 entries, 0 to 17\n",
      "Data columns (total 5 columns):\n",
      " #   Column     Non-Null Count  Dtype \n",
      "---  ------     --------------  ----- \n",
      " 0   store_nbr  18 non-null     int64 \n",
      " 1   city       18 non-null     object\n",
      " 2   state      18 non-null     object\n",
      " 3   type       18 non-null     object\n",
      " 4   cluster    18 non-null     int64 \n",
      "dtypes: int64(2), object(3)\n",
      "memory usage: 852.0+ bytes\n"
     ]
    }
   ],
   "source": [
    "# sanity check\n",
    "df_store_quito = pd.read_csv(\"stores_quito.csv\")\n",
    "df_store_quito.info()"
   ]
  },
  {
   "cell_type": "markdown",
   "id": "deec4fac-084c-46f3-b43b-65bbd1d8d052",
   "metadata": {},
   "source": [
    "### 3. Oil Table EDA"
   ]
  },
  {
   "cell_type": "markdown",
   "id": "fe83ee96-a1f9-4de4-aa16-48cb431faa0e",
   "metadata": {},
   "source": [
    "#### Ecuador is an oil-dependent country and it's economical health is highly vulnerable to shocks in oil prices."
   ]
  },
  {
   "cell_type": "code",
   "execution_count": 59,
   "id": "9a6d037d-2248-4313-95b2-856f2a943ae5",
   "metadata": {},
   "outputs": [
    {
     "name": "stdout",
     "output_type": "stream",
     "text": [
      "<class 'pandas.core.frame.DataFrame'>\n",
      "RangeIndex: 1218 entries, 0 to 1217\n",
      "Data columns (total 2 columns):\n",
      " #   Column      Non-Null Count  Dtype  \n",
      "---  ------      --------------  -----  \n",
      " 0   date        1218 non-null   object \n",
      " 1   dcoilwtico  1175 non-null   float64\n",
      "dtypes: float64(1), object(1)\n",
      "memory usage: 19.2+ KB\n"
     ]
    }
   ],
   "source": [
    "# check for data types\n",
    "df_oil = pd.read_csv(\"oil.csv\")\n",
    "df_oil.info()"
   ]
  },
  {
   "cell_type": "code",
   "execution_count": 60,
   "id": "4576f81c-8b8a-4906-a767-f0e62880d4fd",
   "metadata": {},
   "outputs": [
    {
     "name": "stdout",
     "output_type": "stream",
     "text": [
      "<class 'pandas.core.frame.DataFrame'>\n",
      "RangeIndex: 1218 entries, 0 to 1217\n",
      "Data columns (total 2 columns):\n",
      " #   Column      Non-Null Count  Dtype         \n",
      "---  ------      --------------  -----         \n",
      " 0   date        1218 non-null   datetime64[ns]\n",
      " 1   dcoilwtico  1175 non-null   float64       \n",
      "dtypes: datetime64[ns](1), float64(1)\n",
      "memory usage: 19.2 KB\n"
     ]
    }
   ],
   "source": [
    "# convert date to datetime\n",
    "df_oil[\"date\"] = pd.to_datetime(df_oil[\"date\"])\n",
    "# sanity check\n",
    "df_oil.info()"
   ]
  },
  {
   "cell_type": "code",
   "execution_count": 61,
   "id": "774f0396-fccb-4260-b7d7-cda9ecf1bf64",
   "metadata": {},
   "outputs": [
    {
     "data": {
      "text/plain": [
       "date           0\n",
       "dcoilwtico    43\n",
       "dtype: int64"
      ]
     },
     "execution_count": 61,
     "metadata": {},
     "output_type": "execute_result"
    }
   ],
   "source": [
    "# check for null\n",
    "df_oil.isnull().sum()"
   ]
  },
  {
   "cell_type": "markdown",
   "id": "8888dc77-dda3-48db-9277-a717aa8c2c67",
   "metadata": {},
   "source": [
    "#### To fill the 43 null values, let's see if the nulls are consecutive."
   ]
  },
  {
   "cell_type": "code",
   "execution_count": 62,
   "id": "0edef38d-7616-4059-9447-3f818dae36d2",
   "metadata": {},
   "outputs": [],
   "source": [
    "# create a table of null values\n",
    "df_oil_null = df_oil[df_oil[\"dcoilwtico\"].isnull()]"
   ]
  },
  {
   "cell_type": "code",
   "execution_count": 63,
   "id": "bee322aa-bd18-47ab-bd61-eb2d23a7f664",
   "metadata": {
    "scrolled": true
   },
   "outputs": [
    {
     "name": "stderr",
     "output_type": "stream",
     "text": [
      "C:\\Users\\erinb\\AppData\\Local\\Temp\\ipykernel_18292\\1820170812.py:2: SettingWithCopyWarning: \n",
      "A value is trying to be set on a copy of a slice from a DataFrame.\n",
      "Try using .loc[row_indexer,col_indexer] = value instead\n",
      "\n",
      "See the caveats in the documentation: https://pandas.pydata.org/pandas-docs/stable/user_guide/indexing.html#returning-a-view-versus-a-copy\n",
      "  df_oil_null[\"day_interval\"] = df_oil_null[\"date\"].shift(-1) - df_oil_null[\"date\"]\n"
     ]
    },
    {
     "data": {
      "text/plain": [
       "1174    1 days\n",
       "1039    7 days\n",
       "778     7 days\n",
       "517     7 days\n",
       "256     7 days\n",
       "1044   14 days\n",
       "783    17 days\n",
       "522    18 days\n",
       "261    19 days\n",
       "0      20 days\n",
       "237    27 days\n",
       "274    28 days\n",
       "14     28 days\n",
       "794    28 days\n",
       "534    28 days\n",
       "497    28 days\n",
       "757    29 days\n",
       "1017   32 days\n",
       "1054   35 days\n",
       "1149   35 days\n",
       "889    35 days\n",
       "104    38 days\n",
       "338    38 days\n",
       "814    39 days\n",
       "34     39 days\n",
       "624    39 days\n",
       "364    39 days\n",
       "1118   45 days\n",
       "554    46 days\n",
       "588    52 days\n",
       "1079   53 days\n",
       "393    59 days\n",
       "63     59 days\n",
       "294    60 days\n",
       "132    60 days\n",
       "914    63 days\n",
       "843    66 days\n",
       "653    66 days\n",
       "699    80 days\n",
       "959    80 days\n",
       "434    87 days\n",
       "174    87 days\n",
       "1175       NaT\n",
       "Name: day_interval, dtype: timedelta64[ns]"
      ]
     },
     "execution_count": 63,
     "metadata": {},
     "output_type": "execute_result"
    }
   ],
   "source": [
    "# check for the day intervals between null values\n",
    "df_oil_null[\"day_interval\"] = df_oil_null[\"date\"].shift(-1) - df_oil_null[\"date\"]\n",
    "df_oil_null[\"day_interval\"].sort_values()"
   ]
  },
  {
   "cell_type": "markdown",
   "id": "b9b8f330-cc94-4880-b9f8-becd73632eb2",
   "metadata": {},
   "source": [
    "#### There are only two null values that are consecutive; we can use the forward filling to fill the null values."
   ]
  },
  {
   "cell_type": "code",
   "execution_count": 64,
   "id": "5e541115-2665-4cdc-888b-6efd40ac8dc7",
   "metadata": {},
   "outputs": [],
   "source": [
    "# backward fill the null values\n",
    "df_oil[\"dcoilwtico\"] = df_oil[\"dcoilwtico\"].bfill()"
   ]
  },
  {
   "cell_type": "code",
   "execution_count": 65,
   "id": "c76c64fc-2411-44b2-8a5b-c1e39fdc3b01",
   "metadata": {},
   "outputs": [
    {
     "data": {
      "text/plain": [
       "date          0\n",
       "dcoilwtico    0\n",
       "dtype: int64"
      ]
     },
     "execution_count": 65,
     "metadata": {},
     "output_type": "execute_result"
    }
   ],
   "source": [
    "# sanity check\n",
    "df_oil.isnull().sum()"
   ]
  },
  {
   "cell_type": "code",
   "execution_count": 66,
   "id": "5edb5c27-7c43-4097-b77c-2cbac085ab29",
   "metadata": {},
   "outputs": [
    {
     "data": {
      "text/plain": [
       "0"
      ]
     },
     "execution_count": 66,
     "metadata": {},
     "output_type": "execute_result"
    }
   ],
   "source": [
    "# check for duplicates\n",
    "df_oil.duplicated().sum()"
   ]
  },
  {
   "cell_type": "code",
   "execution_count": 67,
   "id": "dfddf214-d9b6-4d1c-8d16-3fb64e180c4a",
   "metadata": {},
   "outputs": [],
   "source": [
    "# save the data\n",
    "df_oil.to_csv('oil2.csv', index=False)"
   ]
  },
  {
   "cell_type": "code",
   "execution_count": 68,
   "id": "a11a2c04-3ce2-45c6-9c67-5968d9d27a99",
   "metadata": {},
   "outputs": [
    {
     "data": {
      "text/html": [
       "<div>\n",
       "<style scoped>\n",
       "    .dataframe tbody tr th:only-of-type {\n",
       "        vertical-align: middle;\n",
       "    }\n",
       "\n",
       "    .dataframe tbody tr th {\n",
       "        vertical-align: top;\n",
       "    }\n",
       "\n",
       "    .dataframe thead th {\n",
       "        text-align: right;\n",
       "    }\n",
       "</style>\n",
       "<table border=\"1\" class=\"dataframe\">\n",
       "  <thead>\n",
       "    <tr style=\"text-align: right;\">\n",
       "      <th></th>\n",
       "      <th>date</th>\n",
       "      <th>dcoilwtico</th>\n",
       "    </tr>\n",
       "  </thead>\n",
       "  <tbody>\n",
       "    <tr>\n",
       "      <th>0</th>\n",
       "      <td>2013-01-01</td>\n",
       "      <td>93.14</td>\n",
       "    </tr>\n",
       "    <tr>\n",
       "      <th>1</th>\n",
       "      <td>2013-01-02</td>\n",
       "      <td>93.14</td>\n",
       "    </tr>\n",
       "    <tr>\n",
       "      <th>2</th>\n",
       "      <td>2013-01-03</td>\n",
       "      <td>92.97</td>\n",
       "    </tr>\n",
       "    <tr>\n",
       "      <th>3</th>\n",
       "      <td>2013-01-04</td>\n",
       "      <td>93.12</td>\n",
       "    </tr>\n",
       "    <tr>\n",
       "      <th>4</th>\n",
       "      <td>2013-01-07</td>\n",
       "      <td>93.20</td>\n",
       "    </tr>\n",
       "  </tbody>\n",
       "</table>\n",
       "</div>"
      ],
      "text/plain": [
       "         date  dcoilwtico\n",
       "0  2013-01-01       93.14\n",
       "1  2013-01-02       93.14\n",
       "2  2013-01-03       92.97\n",
       "3  2013-01-04       93.12\n",
       "4  2013-01-07       93.20"
      ]
     },
     "execution_count": 68,
     "metadata": {},
     "output_type": "execute_result"
    }
   ],
   "source": [
    "# sanity check\n",
    "df_oil2 = pd.read_csv('oil2.csv')\n",
    "df_oil2.head()"
   ]
  },
  {
   "cell_type": "code",
   "execution_count": 69,
   "id": "d084ac52-ccbc-497f-9ef1-4c65b9076365",
   "metadata": {},
   "outputs": [
    {
     "data": {
      "image/png": "[encoded data removed]",
      "text/plain": [
       "<Figure size 1200x400 with 1 Axes>"
      ]
     },
     "metadata": {},
     "output_type": "display_data"
    }
   ],
   "source": [
    "df_oil2.plot(x=\"date\",y=\"dcoilwtico\",kind=\"line\", figsize=(12,4))\n",
    "plt.title(\"Global Daily Crude Oil Price\")\n",
    "plt.show()"
   ]
  },
  {
   "cell_type": "markdown",
   "id": "0493fbd6-6abb-4713-a634-7097652f7e69",
   "metadata": {},
   "source": [
    "#### Daily crude oil prices remained stable until July 2014, then plummeted and have stayed low since. For Ecuador, a major oil exporter, this has meant reduced national revenue and weakened economy, significantly affecting consumers' purchasing power."
   ]
  },
  {
   "cell_type": "markdown",
   "id": "3558208c-19c9-4567-a0e4-6a71357ecbf9",
   "metadata": {},
   "source": [
    "### 4. Holidays_events Table EDA"
   ]
  },
  {
   "cell_type": "code",
   "execution_count": 70,
   "id": "bf1e298d-7377-4b08-ab06-90f6e2fe688d",
   "metadata": {},
   "outputs": [
    {
     "name": "stdout",
     "output_type": "stream",
     "text": [
      "<class 'pandas.core.frame.DataFrame'>\n",
      "RangeIndex: 350 entries, 0 to 349\n",
      "Data columns (total 6 columns):\n",
      " #   Column       Non-Null Count  Dtype \n",
      "---  ------       --------------  ----- \n",
      " 0   date         350 non-null    object\n",
      " 1   type         350 non-null    object\n",
      " 2   locale       350 non-null    object\n",
      " 3   locale_name  350 non-null    object\n",
      " 4   description  350 non-null    object\n",
      " 5   transferred  350 non-null    bool  \n",
      "dtypes: bool(1), object(5)\n",
      "memory usage: 14.1+ KB\n"
     ]
    }
   ],
   "source": [
    "# check for type\n",
    "df_ho = pd.read_csv(\"holidays_events.csv\")\n",
    "df_ho.info()"
   ]
  },
  {
   "cell_type": "code",
   "execution_count": 71,
   "id": "9ab4348d-46d7-424b-8249-af770ff7bd10",
   "metadata": {},
   "outputs": [
    {
     "name": "stdout",
     "output_type": "stream",
     "text": [
      "<class 'pandas.core.frame.DataFrame'>\n",
      "RangeIndex: 350 entries, 0 to 349\n",
      "Data columns (total 6 columns):\n",
      " #   Column       Non-Null Count  Dtype         \n",
      "---  ------       --------------  -----         \n",
      " 0   date         350 non-null    datetime64[ns]\n",
      " 1   type         350 non-null    object        \n",
      " 2   locale       350 non-null    object        \n",
      " 3   locale_name  350 non-null    object        \n",
      " 4   description  350 non-null    object        \n",
      " 5   transferred  350 non-null    bool          \n",
      "dtypes: bool(1), datetime64[ns](1), object(4)\n",
      "memory usage: 14.1+ KB\n"
     ]
    }
   ],
   "source": [
    "# change date to datetime\n",
    "df_ho[\"date\"] = pd.to_datetime(df_ho[\"date\"])\n",
    "# sanity check\n",
    "df_ho.info()"
   ]
  },
  {
   "cell_type": "code",
   "execution_count": 72,
   "id": "eec7fa7f-150b-4430-aa00-59def4a9859f",
   "metadata": {},
   "outputs": [
    {
     "data": {
      "text/plain": [
       "date           0\n",
       "type           0\n",
       "locale         0\n",
       "locale_name    0\n",
       "description    0\n",
       "transferred    0\n",
       "dtype: int64"
      ]
     },
     "execution_count": 72,
     "metadata": {},
     "output_type": "execute_result"
    }
   ],
   "source": [
    "# check for null\n",
    "df_ho.isnull().sum()"
   ]
  },
  {
   "cell_type": "code",
   "execution_count": 73,
   "id": "ed1da59a-9441-4d0b-bd27-eb04b123505e",
   "metadata": {},
   "outputs": [
    {
     "data": {
      "text/plain": [
       "0"
      ]
     },
     "execution_count": 73,
     "metadata": {},
     "output_type": "execute_result"
    }
   ],
   "source": [
    "# check for duplicates\n",
    "df_ho.duplicated().sum()"
   ]
  },
  {
   "cell_type": "code",
   "execution_count": 74,
   "id": "11f56320-3780-4a80-a17b-ba18c9c4c848",
   "metadata": {
    "scrolled": true
   },
   "outputs": [
    {
     "name": "stdout",
     "output_type": "stream",
     "text": [
      "type\n",
      "Holiday       221\n",
      "Event          56\n",
      "Additional     51\n",
      "Transfer       12\n",
      "Bridge          5\n",
      "Work Day        5\n",
      "Name: count, dtype: int64\n",
      "--------------------------\n",
      "locale\n",
      "National    174\n",
      "Local       152\n",
      "Regional     24\n",
      "Name: count, dtype: int64\n",
      "--------------------------\n",
      "locale_name\n",
      "Ecuador                           174\n",
      "Quito                              13\n",
      "Riobamba                           12\n",
      "Guaranda                           12\n",
      "Latacunga                          12\n",
      "Ambato                             12\n",
      "Guayaquil                          11\n",
      "Cuenca                              7\n",
      "Ibarra                              7\n",
      "Salinas                             6\n",
      "Loja                                6\n",
      "Santa Elena                         6\n",
      "Santo Domingo de los Tsachilas      6\n",
      "Quevedo                             6\n",
      "Manta                               6\n",
      "Esmeraldas                          6\n",
      "Cotopaxi                            6\n",
      "El Carmen                           6\n",
      "Santo Domingo                       6\n",
      "Machala                             6\n",
      "Imbabura                            6\n",
      "Puyo                                6\n",
      "Libertad                            6\n",
      "Cayambe                             6\n",
      "Name: count, dtype: int64\n",
      "--------------------------\n",
      "transferred\n",
      "False    338\n",
      "True      12\n",
      "Name: count, dtype: int64\n",
      "--------------------------\n"
     ]
    }
   ],
   "source": [
    "# check for different kinds of holidays and events\n",
    "cols=[col for col in df_ho.columns if (col != \"date\" and col != \"description\")]\n",
    "cols\n",
    "for col in cols:\n",
    "    \n",
    "    print(df_ho[col].value_counts())\n",
    "    print(\"--------------------------\")"
   ]
  },
  {
   "cell_type": "markdown",
   "id": "9fc57750-2cd3-4565-b1db-3c9871e98e2e",
   "metadata": {},
   "source": [
    "#### We need to screen the holidays celebrated in our target city Quito, which include national, regional(maybe) and local holidays. "
   ]
  },
  {
   "cell_type": "code",
   "execution_count": 75,
   "id": "73e751d7-8152-4eb7-8d16-8c12ee3738d1",
   "metadata": {},
   "outputs": [
    {
     "data": {
      "text/html": [
       "<div>\n",
       "<style scoped>\n",
       "    .dataframe tbody tr th:only-of-type {\n",
       "        vertical-align: middle;\n",
       "    }\n",
       "\n",
       "    .dataframe tbody tr th {\n",
       "        vertical-align: top;\n",
       "    }\n",
       "\n",
       "    .dataframe thead th {\n",
       "        text-align: right;\n",
       "    }\n",
       "</style>\n",
       "<table border=\"1\" class=\"dataframe\">\n",
       "  <thead>\n",
       "    <tr style=\"text-align: right;\">\n",
       "      <th></th>\n",
       "      <th>date</th>\n",
       "      <th>type</th>\n",
       "      <th>locale</th>\n",
       "      <th>locale_name</th>\n",
       "      <th>description</th>\n",
       "      <th>transferred</th>\n",
       "    </tr>\n",
       "  </thead>\n",
       "  <tbody>\n",
       "    <tr>\n",
       "      <th>14</th>\n",
       "      <td>2012-08-10</td>\n",
       "      <td>Holiday</td>\n",
       "      <td>National</td>\n",
       "      <td>Ecuador</td>\n",
       "      <td>Primer Grito de Independencia</td>\n",
       "      <td>False</td>\n",
       "    </tr>\n",
       "    <tr>\n",
       "      <th>19</th>\n",
       "      <td>2012-10-09</td>\n",
       "      <td>Holiday</td>\n",
       "      <td>National</td>\n",
       "      <td>Ecuador</td>\n",
       "      <td>Independencia de Guayaquil</td>\n",
       "      <td>True</td>\n",
       "    </tr>\n",
       "    <tr>\n",
       "      <th>20</th>\n",
       "      <td>2012-10-12</td>\n",
       "      <td>Transfer</td>\n",
       "      <td>National</td>\n",
       "      <td>Ecuador</td>\n",
       "      <td>Traslado Independencia de Guayaquil</td>\n",
       "      <td>False</td>\n",
       "    </tr>\n",
       "  </tbody>\n",
       "</table>\n",
       "</div>"
      ],
      "text/plain": [
       "         date      type    locale locale_name  \\\n",
       "14 2012-08-10   Holiday  National     Ecuador   \n",
       "19 2012-10-09   Holiday  National     Ecuador   \n",
       "20 2012-10-12  Transfer  National     Ecuador   \n",
       "\n",
       "                            description  transferred  \n",
       "14        Primer Grito de Independencia        False  \n",
       "19           Independencia de Guayaquil         True  \n",
       "20  Traslado Independencia de Guayaquil        False  "
      ]
     },
     "execution_count": 75,
     "metadata": {},
     "output_type": "execute_result"
    }
   ],
   "source": [
    "# check for national holidays\n",
    "df_ho[df_ho[\"locale\"]==\"National\"].head(3)"
   ]
  },
  {
   "cell_type": "code",
   "execution_count": 76,
   "id": "1b460c72-ce54-4b1b-8a2d-f3e9f10fe923",
   "metadata": {},
   "outputs": [
    {
     "data": {
      "text/plain": [
       "array(['Provincializacion de Cotopaxi', 'Provincializacion de Imbabura',\n",
       "       'Provincializacion de Santo Domingo',\n",
       "       'Provincializacion Santa Elena'], dtype=object)"
      ]
     },
     "execution_count": 76,
     "metadata": {},
     "output_type": "execute_result"
    }
   ],
   "source": [
    "# check for regional holidays\n",
    "df_ho[df_ho[\"locale\"]==\"Regional\"][\"description\"].unique()"
   ]
  },
  {
   "cell_type": "markdown",
   "id": "02578566-4fbd-450e-b984-ed5859842e61",
   "metadata": {},
   "source": [
    "#### The regional holidays are celebrated in the provinces of Cotopaxi, Imbabura, Santo Domingo, and Santa Elena; thus they are not related to our goal of analysis."
   ]
  },
  {
   "cell_type": "code",
   "execution_count": 77,
   "id": "bcfc20eb-1b88-4dc5-8541-95985ec20f5d",
   "metadata": {
    "scrolled": true
   },
   "outputs": [
    {
     "data": {
      "text/html": [
       "<div>\n",
       "<style scoped>\n",
       "    .dataframe tbody tr th:only-of-type {\n",
       "        vertical-align: middle;\n",
       "    }\n",
       "\n",
       "    .dataframe tbody tr th {\n",
       "        vertical-align: top;\n",
       "    }\n",
       "\n",
       "    .dataframe thead th {\n",
       "        text-align: right;\n",
       "    }\n",
       "</style>\n",
       "<table border=\"1\" class=\"dataframe\">\n",
       "  <thead>\n",
       "    <tr style=\"text-align: right;\">\n",
       "      <th></th>\n",
       "      <th>date</th>\n",
       "      <th>type</th>\n",
       "      <th>locale</th>\n",
       "      <th>locale_name</th>\n",
       "      <th>description</th>\n",
       "      <th>transferred</th>\n",
       "    </tr>\n",
       "  </thead>\n",
       "  <tbody>\n",
       "    <tr>\n",
       "      <th>28</th>\n",
       "      <td>2012-12-05</td>\n",
       "      <td>Additional</td>\n",
       "      <td>Local</td>\n",
       "      <td>Quito</td>\n",
       "      <td>Fundacion de Quito-1</td>\n",
       "      <td>False</td>\n",
       "    </tr>\n",
       "    <tr>\n",
       "      <th>29</th>\n",
       "      <td>2012-12-06</td>\n",
       "      <td>Holiday</td>\n",
       "      <td>Local</td>\n",
       "      <td>Quito</td>\n",
       "      <td>Fundacion de Quito</td>\n",
       "      <td>False</td>\n",
       "    </tr>\n",
       "    <tr>\n",
       "      <th>81</th>\n",
       "      <td>2013-12-05</td>\n",
       "      <td>Additional</td>\n",
       "      <td>Local</td>\n",
       "      <td>Quito</td>\n",
       "      <td>Fundacion de Quito-1</td>\n",
       "      <td>False</td>\n",
       "    </tr>\n",
       "    <tr>\n",
       "      <th>82</th>\n",
       "      <td>2013-12-06</td>\n",
       "      <td>Holiday</td>\n",
       "      <td>Local</td>\n",
       "      <td>Quito</td>\n",
       "      <td>Fundacion de Quito</td>\n",
       "      <td>False</td>\n",
       "    </tr>\n",
       "    <tr>\n",
       "      <th>146</th>\n",
       "      <td>2014-12-05</td>\n",
       "      <td>Additional</td>\n",
       "      <td>Local</td>\n",
       "      <td>Quito</td>\n",
       "      <td>Fundacion de Quito-1</td>\n",
       "      <td>False</td>\n",
       "    </tr>\n",
       "    <tr>\n",
       "      <th>147</th>\n",
       "      <td>2014-12-06</td>\n",
       "      <td>Holiday</td>\n",
       "      <td>Local</td>\n",
       "      <td>Quito</td>\n",
       "      <td>Fundacion de Quito</td>\n",
       "      <td>False</td>\n",
       "    </tr>\n",
       "    <tr>\n",
       "      <th>200</th>\n",
       "      <td>2015-12-05</td>\n",
       "      <td>Additional</td>\n",
       "      <td>Local</td>\n",
       "      <td>Quito</td>\n",
       "      <td>Fundacion de Quito-1</td>\n",
       "      <td>False</td>\n",
       "    </tr>\n",
       "    <tr>\n",
       "      <th>201</th>\n",
       "      <td>2015-12-06</td>\n",
       "      <td>Holiday</td>\n",
       "      <td>Local</td>\n",
       "      <td>Quito</td>\n",
       "      <td>Fundacion de Quito</td>\n",
       "      <td>False</td>\n",
       "    </tr>\n",
       "    <tr>\n",
       "      <th>286</th>\n",
       "      <td>2016-12-05</td>\n",
       "      <td>Additional</td>\n",
       "      <td>Local</td>\n",
       "      <td>Quito</td>\n",
       "      <td>Fundacion de Quito-1</td>\n",
       "      <td>False</td>\n",
       "    </tr>\n",
       "    <tr>\n",
       "      <th>287</th>\n",
       "      <td>2016-12-06</td>\n",
       "      <td>Holiday</td>\n",
       "      <td>Local</td>\n",
       "      <td>Quito</td>\n",
       "      <td>Fundacion de Quito</td>\n",
       "      <td>False</td>\n",
       "    </tr>\n",
       "    <tr>\n",
       "      <th>339</th>\n",
       "      <td>2017-12-05</td>\n",
       "      <td>Additional</td>\n",
       "      <td>Local</td>\n",
       "      <td>Quito</td>\n",
       "      <td>Fundacion de Quito-1</td>\n",
       "      <td>False</td>\n",
       "    </tr>\n",
       "    <tr>\n",
       "      <th>340</th>\n",
       "      <td>2017-12-06</td>\n",
       "      <td>Holiday</td>\n",
       "      <td>Local</td>\n",
       "      <td>Quito</td>\n",
       "      <td>Fundacion de Quito</td>\n",
       "      <td>True</td>\n",
       "    </tr>\n",
       "    <tr>\n",
       "      <th>342</th>\n",
       "      <td>2017-12-08</td>\n",
       "      <td>Transfer</td>\n",
       "      <td>Local</td>\n",
       "      <td>Quito</td>\n",
       "      <td>Traslado Fundacion de Quito</td>\n",
       "      <td>False</td>\n",
       "    </tr>\n",
       "  </tbody>\n",
       "</table>\n",
       "</div>"
      ],
      "text/plain": [
       "          date        type locale locale_name                  description  \\\n",
       "28  2012-12-05  Additional  Local       Quito         Fundacion de Quito-1   \n",
       "29  2012-12-06     Holiday  Local       Quito           Fundacion de Quito   \n",
       "81  2013-12-05  Additional  Local       Quito         Fundacion de Quito-1   \n",
       "82  2013-12-06     Holiday  Local       Quito           Fundacion de Quito   \n",
       "146 2014-12-05  Additional  Local       Quito         Fundacion de Quito-1   \n",
       "147 2014-12-06     Holiday  Local       Quito           Fundacion de Quito   \n",
       "200 2015-12-05  Additional  Local       Quito         Fundacion de Quito-1   \n",
       "201 2015-12-06     Holiday  Local       Quito           Fundacion de Quito   \n",
       "286 2016-12-05  Additional  Local       Quito         Fundacion de Quito-1   \n",
       "287 2016-12-06     Holiday  Local       Quito           Fundacion de Quito   \n",
       "339 2017-12-05  Additional  Local       Quito         Fundacion de Quito-1   \n",
       "340 2017-12-06     Holiday  Local       Quito           Fundacion de Quito   \n",
       "342 2017-12-08    Transfer  Local       Quito  Traslado Fundacion de Quito   \n",
       "\n",
       "     transferred  \n",
       "28         False  \n",
       "29         False  \n",
       "81         False  \n",
       "82         False  \n",
       "146        False  \n",
       "147        False  \n",
       "200        False  \n",
       "201        False  \n",
       "286        False  \n",
       "287        False  \n",
       "339        False  \n",
       "340         True  \n",
       "342        False  "
      ]
     },
     "execution_count": 77,
     "metadata": {},
     "output_type": "execute_result"
    }
   ],
   "source": [
    "# check for Quito local holidays and events\n",
    "df_ho[df_ho[\"locale_name\"]==\"Quito\"]"
   ]
  },
  {
   "cell_type": "markdown",
   "id": "be396745-60f6-4fa0-8534-36d242112c0b",
   "metadata": {},
   "source": [
    "#### Select relevant festivals and events for Quito"
   ]
  },
  {
   "cell_type": "code",
   "execution_count": 78,
   "id": "47bd219a-0b7d-4af0-b61d-8a4fdbcb0083",
   "metadata": {},
   "outputs": [
    {
     "name": "stdout",
     "output_type": "stream",
     "text": [
      "<class 'pandas.core.frame.DataFrame'>\n",
      "Index: 187 entries, 14 to 349\n",
      "Data columns (total 6 columns):\n",
      " #   Column       Non-Null Count  Dtype         \n",
      "---  ------       --------------  -----         \n",
      " 0   date         187 non-null    datetime64[ns]\n",
      " 1   type         187 non-null    object        \n",
      " 2   locale       187 non-null    object        \n",
      " 3   locale_name  187 non-null    object        \n",
      " 4   description  187 non-null    object        \n",
      " 5   transferred  187 non-null    bool          \n",
      "dtypes: bool(1), datetime64[ns](1), object(4)\n",
      "memory usage: 8.9+ KB\n"
     ]
    }
   ],
   "source": [
    "df_ho_qui = df_ho[df_ho[\"locale_name\"].isin([\"Ecuador\", \"Quito\"])]\n",
    "# sanity check\n",
    "df_ho_qui.info()"
   ]
  },
  {
   "cell_type": "markdown",
   "id": "59c2ba55-cf0a-47ce-ba65-7194baf3f133",
   "metadata": {},
   "source": [
    "#### As explained in the data dictionary, a transferred day is more like a normal day than a holiday. We need to treat those days as normal days. So we can drop the rows that are transfered holidays."
   ]
  },
  {
   "cell_type": "code",
   "execution_count": 79,
   "id": "0cbd5f3c-7fe9-4ffe-8a67-08c81a16077e",
   "metadata": {},
   "outputs": [],
   "source": [
    "# drop the transfered holidays and treat them as normal days\n",
    "df_ho_qui2 = df_ho_qui[df_ho_qui[\"transferred\"] == False]"
   ]
  },
  {
   "cell_type": "code",
   "execution_count": 80,
   "id": "44b833bc-e4c7-4d04-83c3-6f1b3144ca63",
   "metadata": {},
   "outputs": [
    {
     "data": {
      "text/plain": [
       "type\n",
       "Holiday       57\n",
       "Event         56\n",
       "Additional    46\n",
       "Transfer       9\n",
       "Bridge         5\n",
       "Work Day       5\n",
       "Name: count, dtype: int64"
      ]
     },
     "execution_count": 80,
     "metadata": {},
     "output_type": "execute_result"
    }
   ],
   "source": [
    "df_ho_qui2[\"type\"].value_counts()"
   ]
  },
  {
   "cell_type": "markdown",
   "id": "c8381a85-597f-4006-9190-d7e202458d69",
   "metadata": {},
   "source": [
    "#### To understand what events are and how they are affecting store sales, we need to dive deep into the events."
   ]
  },
  {
   "cell_type": "code",
   "execution_count": 81,
   "id": "e5ac2d87-9806-4171-9af2-1a7ce5a19546",
   "metadata": {
    "scrolled": true
   },
   "outputs": [
    {
     "data": {
      "text/plain": [
       "description\n",
       "Dia de la Madre                                    5\n",
       "Mundial de futbol Brasil: Octavos de Final         4\n",
       "Black Friday                                       3\n",
       "Cyber Monday                                       3\n",
       "Mundial de futbol Brasil: Cuartos de Final         2\n",
       "Mundial de futbol Brasil: Semifinales              2\n",
       "Terremoto Manabi+21                                1\n",
       "Terremoto Manabi+14                                1\n",
       "Terremoto Manabi+15                                1\n",
       "Terremoto Manabi+16                                1\n",
       "Terremoto Manabi+17                                1\n",
       "Terremoto Manabi+18                                1\n",
       "Terremoto Manabi+19                                1\n",
       "Terremoto Manabi+20                                1\n",
       "Terremoto Manabi+24                                1\n",
       "Terremoto Manabi+22                                1\n",
       "Terremoto Manabi+23                                1\n",
       "Terremoto Manabi+12                                1\n",
       "Terremoto Manabi+25                                1\n",
       "Terremoto Manabi+26                                1\n",
       "Terremoto Manabi+27                                1\n",
       "Terremoto Manabi+28                                1\n",
       "Terremoto Manabi+29                                1\n",
       "Terremoto Manabi+13                                1\n",
       "Terremoto Manabi+9                                 1\n",
       "Terremoto Manabi+11                                1\n",
       "Terremoto Manabi+10                                1\n",
       "Mundial de futbol Brasil: Ecuador-Suiza            1\n",
       "Mundial de futbol Brasil: Ecuador-Honduras         1\n",
       "Mundial de futbol Brasil: Ecuador-Francia          1\n",
       "Mundial de futbol Brasil: Tercer y cuarto lugar    1\n",
       "Mundial de futbol Brasil: Final                    1\n",
       "Terremoto Manabi                                   1\n",
       "Terremoto Manabi+1                                 1\n",
       "Terremoto Manabi+2                                 1\n",
       "Terremoto Manabi+3                                 1\n",
       "Terremoto Manabi+4                                 1\n",
       "Terremoto Manabi+5                                 1\n",
       "Terremoto Manabi+6                                 1\n",
       "Terremoto Manabi+7                                 1\n",
       "Terremoto Manabi+8                                 1\n",
       "Inauguracion Mundial de futbol Brasil              1\n",
       "Terremoto Manabi+30                                1\n",
       "Name: count, dtype: int64"
      ]
     },
     "execution_count": 81,
     "metadata": {},
     "output_type": "execute_result"
    }
   ],
   "source": [
    "df_qui_event = df_ho_qui2[df_ho_qui2[\"type\"]==\"Event\"]\n",
    "df_qui_event[\"description\"].value_counts()"
   ]
  },
  {
   "cell_type": "markdown",
   "id": "2f82edfb-783e-4b4a-9add-b35eb40aca85",
   "metadata": {
    "scrolled": true
   },
   "source": [
    "#### To better understand the description, let's translate the column into English."
   ]
  },
  {
   "cell_type": "code",
   "execution_count": 82,
   "id": "a2be8a04-dd26-47cb-b239-fe72fd4d54d1",
   "metadata": {
    "scrolled": true
   },
   "outputs": [],
   "source": [
    "# pip install googletrans==4.0.0-rc1"
   ]
  },
  {
   "cell_type": "code",
   "execution_count": 83,
   "id": "fa7530ff-a2a7-458a-ab9b-a10cbf345b3a",
   "metadata": {},
   "outputs": [],
   "source": [
    "from googletrans import Translator\n",
    "# Function to translate text\n",
    "def translate_text(text):\n",
    "    translator = Translator()\n",
    "    translation = translator.translate(text, src='es', dest='en')\n",
    "    return translation.text"
   ]
  },
  {
   "cell_type": "code",
   "execution_count": 84,
   "id": "08404be9-7759-42bd-90e7-f51893ecd1d5",
   "metadata": {},
   "outputs": [],
   "source": [
    "# translate the \"description\" column\n",
    "# df_ho_qui2['description_eng'] = df_ho_qui2['description'].apply(translate_text)"
   ]
  },
  {
   "cell_type": "code",
   "execution_count": 85,
   "id": "e79909b5-afc5-48ba-94ca-46b58fa19385",
   "metadata": {},
   "outputs": [],
   "source": [
    "# sanity check\n",
    "# df_ho_qui2.head()"
   ]
  },
  {
   "cell_type": "code",
   "execution_count": 86,
   "id": "8d2d4983-070c-4be2-b0d5-6b161c49101a",
   "metadata": {},
   "outputs": [],
   "source": [
    "# drop the spanish description and save the Quito relevant holidays and events\n",
    "# drop \"transferred\" column since all transferred have been treated as normal days\n",
    "# df_ho_qui3 = df_ho_qui2.drop(columns=[\"description\",\"transferred\"])\n",
    "# save to a seperate file, \n",
    "# df_ho_qui3.to_csv(\"holidays_quito.csv\", index=False)"
   ]
  },
  {
   "cell_type": "code",
   "execution_count": 87,
   "id": "d040599f-c007-415a-a1c8-da9e6863a5a5",
   "metadata": {},
   "outputs": [
    {
     "name": "stdout",
     "output_type": "stream",
     "text": [
      "<class 'pandas.core.frame.DataFrame'>\n",
      "RangeIndex: 178 entries, 0 to 177\n",
      "Data columns (total 4 columns):\n",
      " #   Column           Non-Null Count  Dtype \n",
      "---  ------           --------------  ----- \n",
      " 0   date             178 non-null    object\n",
      " 1   type             178 non-null    object\n",
      " 2   locale           178 non-null    object\n",
      " 3   description_eng  178 non-null    object\n",
      "dtypes: object(4)\n",
      "memory usage: 5.7+ KB\n"
     ]
    }
   ],
   "source": [
    "# check the new holiday dataset\n",
    "df_ho_qui = pd.read_csv(\"holidays_quito.csv\")\n",
    "df_ho_qui.info()"
   ]
  },
  {
   "cell_type": "markdown",
   "id": "0a32a086-eb84-44b5-8634-972b4d5cd40b",
   "metadata": {},
   "source": [
    "#### locale and locale_name contain the same message, we can drop local_name"
   ]
  },
  {
   "cell_type": "code",
   "execution_count": 88,
   "id": "d507ec87-d3e6-4275-bcb9-0cc1669ab839",
   "metadata": {},
   "outputs": [
    {
     "data": {
      "text/plain": [
       "locale\n",
       "National    166\n",
       "Local        12\n",
       "Name: count, dtype: int64"
      ]
     },
     "execution_count": 88,
     "metadata": {},
     "output_type": "execute_result"
    }
   ],
   "source": [
    "df_ho_qui[\"locale\"].value_counts()"
   ]
  },
  {
   "cell_type": "code",
   "execution_count": 89,
   "id": "a1ca192e-81d3-46f8-ac73-e814ddd5e458",
   "metadata": {},
   "outputs": [],
   "source": [
    "# df_ho_qui[\"locale_name\"].value_counts()"
   ]
  },
  {
   "cell_type": "code",
   "execution_count": 90,
   "id": "151e32b6-5087-4a99-a62f-ebe8237a41a1",
   "metadata": {},
   "outputs": [
    {
     "name": "stdout",
     "output_type": "stream",
     "text": [
      "<class 'pandas.core.frame.DataFrame'>\n",
      "RangeIndex: 178 entries, 0 to 177\n",
      "Data columns (total 4 columns):\n",
      " #   Column           Non-Null Count  Dtype         \n",
      "---  ------           --------------  -----         \n",
      " 0   date             178 non-null    datetime64[ns]\n",
      " 1   type             178 non-null    object        \n",
      " 2   locale           178 non-null    object        \n",
      " 3   description_eng  178 non-null    object        \n",
      "dtypes: datetime64[ns](1), object(3)\n",
      "memory usage: 5.7+ KB\n"
     ]
    }
   ],
   "source": [
    "# drop locale_name\n",
    "# df_ho_qui=df_ho_qui.drop(columns=\"locale_name\")\n",
    "# change date to datetime\n",
    "df_ho_qui[\"date\"] = pd.to_datetime(df_ho_qui[\"date\"])\n",
    "# sanity check\n",
    "df_ho_qui.info()"
   ]
  },
  {
   "cell_type": "code",
   "execution_count": 91,
   "id": "92ed0e50-6478-42be-9f49-2a7d067d60b8",
   "metadata": {},
   "outputs": [],
   "source": [
    "# update the Quito holiday dataset\n",
    "# df_ho_qui.to_csv(\"holidays_quito.csv\", index=False)"
   ]
  },
  {
   "cell_type": "markdown",
   "id": "7076af64-6b2c-4827-8aba-78f2ee124328",
   "metadata": {},
   "source": [
    "#### Based on the additional information provided in the dictionary, we know that we should include a \"payday\" column and an \"earthquake\" column. From previous analyses, we know that paydays haven't been included in the holiday and event dataset. Let's confirm if earthquake days have been included. As for the \"payday\" column, we can add it once we join all our datasets together, as the sales dataset contains all the dates needed for the project."
   ]
  },
  {
   "cell_type": "code",
   "execution_count": 92,
   "id": "71005865-7d0a-4a95-872a-eb201f6c27fe",
   "metadata": {},
   "outputs": [
    {
     "data": {
      "text/html": [
       "<div>\n",
       "<style scoped>\n",
       "    .dataframe tbody tr th:only-of-type {\n",
       "        vertical-align: middle;\n",
       "    }\n",
       "\n",
       "    .dataframe tbody tr th {\n",
       "        vertical-align: top;\n",
       "    }\n",
       "\n",
       "    .dataframe thead th {\n",
       "        text-align: right;\n",
       "    }\n",
       "</style>\n",
       "<table border=\"1\" class=\"dataframe\">\n",
       "  <thead>\n",
       "    <tr style=\"text-align: right;\">\n",
       "      <th></th>\n",
       "      <th>date</th>\n",
       "      <th>type</th>\n",
       "      <th>locale</th>\n",
       "      <th>description_eng</th>\n",
       "    </tr>\n",
       "  </thead>\n",
       "  <tbody>\n",
       "    <tr>\n",
       "      <th>106</th>\n",
       "      <td>2016-04-16</td>\n",
       "      <td>Event</td>\n",
       "      <td>National</td>\n",
       "      <td>Manabi earthquake</td>\n",
       "    </tr>\n",
       "    <tr>\n",
       "      <th>107</th>\n",
       "      <td>2016-04-17</td>\n",
       "      <td>Event</td>\n",
       "      <td>National</td>\n",
       "      <td>Manabi+1 earthquake</td>\n",
       "    </tr>\n",
       "    <tr>\n",
       "      <th>108</th>\n",
       "      <td>2016-04-18</td>\n",
       "      <td>Event</td>\n",
       "      <td>National</td>\n",
       "      <td>Manabi+2 earthquake</td>\n",
       "    </tr>\n",
       "    <tr>\n",
       "      <th>109</th>\n",
       "      <td>2016-04-19</td>\n",
       "      <td>Event</td>\n",
       "      <td>National</td>\n",
       "      <td>Manabi+3 earthquake</td>\n",
       "    </tr>\n",
       "  </tbody>\n",
       "</table>\n",
       "</div>"
      ],
      "text/plain": [
       "           date   type    locale      description_eng\n",
       "106  2016-04-16  Event  National    Manabi earthquake\n",
       "107  2016-04-17  Event  National  Manabi+1 earthquake\n",
       "108  2016-04-18  Event  National  Manabi+2 earthquake\n",
       "109  2016-04-19  Event  National  Manabi+3 earthquake"
      ]
     },
     "execution_count": 92,
     "metadata": {},
     "output_type": "execute_result"
    }
   ],
   "source": [
    "# check for the earthquake\n",
    "df_ho = pd.read_csv(\"holidays_quito.csv\")\n",
    "df_ho[df_ho[\"date\"].isin([\"2016-04-16\",\"2016-04-17\",\"2016-04-18\",\"2016-04-19\"])]"
   ]
  },
  {
   "cell_type": "markdown",
   "id": "74a8ded5-26dd-438c-8d09-d088e6f9fd94",
   "metadata": {},
   "source": [
    "#### The earthquake has been included in the holiday dataset. \n",
    "\n",
    "#### Action: Add payday once all datasets are joined."
   ]
  },
  {
   "cell_type": "markdown",
   "id": "a388bfbd-07f5-453b-82ea-316f9db2adfb",
   "metadata": {},
   "source": [
    "### 5. Transactions Table EDA"
   ]
  },
  {
   "cell_type": "code",
   "execution_count": 93,
   "id": "d929974d-8bda-432e-a02e-b90c06f182f1",
   "metadata": {},
   "outputs": [
    {
     "name": "stdout",
     "output_type": "stream",
     "text": [
      "<class 'pandas.core.frame.DataFrame'>\n",
      "RangeIndex: 83488 entries, 0 to 83487\n",
      "Data columns (total 3 columns):\n",
      " #   Column        Non-Null Count  Dtype \n",
      "---  ------        --------------  ----- \n",
      " 0   date          83488 non-null  object\n",
      " 1   store_nbr     83488 non-null  int64 \n",
      " 2   transactions  83488 non-null  int64 \n",
      "dtypes: int64(2), object(1)\n",
      "memory usage: 1.9+ MB\n"
     ]
    }
   ],
   "source": [
    "# check general info\n",
    "df_tran = pd.read_csv(\"transactions.csv\")\n",
    "df_tran.info()"
   ]
  },
  {
   "cell_type": "code",
   "execution_count": 94,
   "id": "540342b8-500e-4c1f-a79a-6db30b2db292",
   "metadata": {},
   "outputs": [
    {
     "data": {
      "text/plain": [
       "0"
      ]
     },
     "execution_count": 94,
     "metadata": {},
     "output_type": "execute_result"
    }
   ],
   "source": [
    "# check for duplicates\n",
    "df_tran.duplicated().sum()"
   ]
  },
  {
   "cell_type": "code",
   "execution_count": 95,
   "id": "b9e1a045-1f16-486b-b2dd-b4639970eb0c",
   "metadata": {},
   "outputs": [
    {
     "data": {
      "text/plain": [
       "date            0\n",
       "store_nbr       0\n",
       "transactions    0\n",
       "dtype: int64"
      ]
     },
     "execution_count": 95,
     "metadata": {},
     "output_type": "execute_result"
    }
   ],
   "source": [
    "# check for null\n",
    "df_tran.isnull().sum()"
   ]
  },
  {
   "cell_type": "code",
   "execution_count": 96,
   "id": "25ecf27d-6081-4ffc-b104-2b2985cf7517",
   "metadata": {},
   "outputs": [
    {
     "name": "stdout",
     "output_type": "stream",
     "text": [
      "<class 'pandas.core.frame.DataFrame'>\n",
      "RangeIndex: 83488 entries, 0 to 83487\n",
      "Data columns (total 3 columns):\n",
      " #   Column        Non-Null Count  Dtype         \n",
      "---  ------        --------------  -----         \n",
      " 0   date          83488 non-null  datetime64[ns]\n",
      " 1   store_nbr     83488 non-null  int64         \n",
      " 2   transactions  83488 non-null  int64         \n",
      "dtypes: datetime64[ns](1), int64(2)\n",
      "memory usage: 1.9 MB\n"
     ]
    }
   ],
   "source": [
    "# change date to datetime\n",
    "df_tran[\"date\"]=pd.to_datetime(df_tran[\"date\"])\n",
    "# sanity check\n",
    "df_tran.info()"
   ]
  },
  {
   "cell_type": "code",
   "execution_count": 97,
   "id": "a25c9136-74bb-402f-8f2a-9bce0fac9a9d",
   "metadata": {},
   "outputs": [
    {
     "data": {
      "image/png": "[encoded data removed]",
      "text/plain": [
       "<Figure size 1500x600 with 1 Axes>"
      ]
     },
     "metadata": {},
     "output_type": "display_data"
    }
   ],
   "source": [
    "# Visualizing the missing data of each store\n",
    "plt.figure(figsize=(15, 6))  # Adjusting figure size for better visualization\n",
    "store_data = df_tran.set_index(\"date\")\n",
    "store_data = store_data[(store_data[\"store_nbr\"] == 18) & (store_data.index.year == 2016)]\n",
    "plt.plot(store_data.index, store_data[\"transactions\"], label='Store 18')\n",
    "plt.title('Store 18')\n",
    "plt.xlabel('Date')\n",
    "plt.ylabel('store_trans')\n",
    "plt.legend()\n",
    "plt.show()"
   ]
  },
  {
   "cell_type": "code",
   "execution_count": 98,
   "id": "f4a61912-7e16-4e96-9264-870e80eab47c",
   "metadata": {},
   "outputs": [
    {
     "data": {
      "text/html": [
       "<div>\n",
       "<style scoped>\n",
       "    .dataframe tbody tr th:only-of-type {\n",
       "        vertical-align: middle;\n",
       "    }\n",
       "\n",
       "    .dataframe tbody tr th {\n",
       "        vertical-align: top;\n",
       "    }\n",
       "\n",
       "    .dataframe thead th {\n",
       "        text-align: right;\n",
       "    }\n",
       "</style>\n",
       "<table border=\"1\" class=\"dataframe\">\n",
       "  <thead>\n",
       "    <tr style=\"text-align: right;\">\n",
       "      <th></th>\n",
       "      <th>store_nbr</th>\n",
       "      <th>transactions</th>\n",
       "    </tr>\n",
       "    <tr>\n",
       "      <th>date</th>\n",
       "      <th></th>\n",
       "      <th></th>\n",
       "    </tr>\n",
       "  </thead>\n",
       "  <tbody>\n",
       "    <tr>\n",
       "      <th>2016-12-03</th>\n",
       "      <td>18</td>\n",
       "      <td>1580</td>\n",
       "    </tr>\n",
       "    <tr>\n",
       "      <th>2016-12-04</th>\n",
       "      <td>18</td>\n",
       "      <td>1649</td>\n",
       "    </tr>\n",
       "    <tr>\n",
       "      <th>2016-12-05</th>\n",
       "      <td>18</td>\n",
       "      <td>1342</td>\n",
       "    </tr>\n",
       "    <tr>\n",
       "      <th>2016-12-06</th>\n",
       "      <td>18</td>\n",
       "      <td>1375</td>\n",
       "    </tr>\n",
       "    <tr>\n",
       "      <th>2016-12-07</th>\n",
       "      <td>18</td>\n",
       "      <td>1277</td>\n",
       "    </tr>\n",
       "    <tr>\n",
       "      <th>2016-12-08</th>\n",
       "      <td>18</td>\n",
       "      <td>1190</td>\n",
       "    </tr>\n",
       "    <tr>\n",
       "      <th>2016-12-09</th>\n",
       "      <td>18</td>\n",
       "      <td>1261</td>\n",
       "    </tr>\n",
       "    <tr>\n",
       "      <th>2016-12-10</th>\n",
       "      <td>18</td>\n",
       "      <td>1374</td>\n",
       "    </tr>\n",
       "    <tr>\n",
       "      <th>2016-12-11</th>\n",
       "      <td>18</td>\n",
       "      <td>1478</td>\n",
       "    </tr>\n",
       "    <tr>\n",
       "      <th>2016-12-12</th>\n",
       "      <td>18</td>\n",
       "      <td>1207</td>\n",
       "    </tr>\n",
       "    <tr>\n",
       "      <th>2016-12-13</th>\n",
       "      <td>18</td>\n",
       "      <td>1367</td>\n",
       "    </tr>\n",
       "    <tr>\n",
       "      <th>2016-12-14</th>\n",
       "      <td>18</td>\n",
       "      <td>1393</td>\n",
       "    </tr>\n",
       "    <tr>\n",
       "      <th>2016-12-15</th>\n",
       "      <td>18</td>\n",
       "      <td>1444</td>\n",
       "    </tr>\n",
       "    <tr>\n",
       "      <th>2016-12-16</th>\n",
       "      <td>18</td>\n",
       "      <td>1368</td>\n",
       "    </tr>\n",
       "    <tr>\n",
       "      <th>2016-12-17</th>\n",
       "      <td>18</td>\n",
       "      <td>1570</td>\n",
       "    </tr>\n",
       "    <tr>\n",
       "      <th>2016-12-18</th>\n",
       "      <td>18</td>\n",
       "      <td>1778</td>\n",
       "    </tr>\n",
       "    <tr>\n",
       "      <th>2016-12-19</th>\n",
       "      <td>18</td>\n",
       "      <td>1506</td>\n",
       "    </tr>\n",
       "    <tr>\n",
       "      <th>2016-12-20</th>\n",
       "      <td>18</td>\n",
       "      <td>1677</td>\n",
       "    </tr>\n",
       "    <tr>\n",
       "      <th>2016-12-21</th>\n",
       "      <td>18</td>\n",
       "      <td>1832</td>\n",
       "    </tr>\n",
       "    <tr>\n",
       "      <th>2016-12-22</th>\n",
       "      <td>18</td>\n",
       "      <td>2039</td>\n",
       "    </tr>\n",
       "    <tr>\n",
       "      <th>2016-12-23</th>\n",
       "      <td>18</td>\n",
       "      <td>2151</td>\n",
       "    </tr>\n",
       "    <tr>\n",
       "      <th>2016-12-24</th>\n",
       "      <td>18</td>\n",
       "      <td>2268</td>\n",
       "    </tr>\n",
       "    <tr>\n",
       "      <th>2016-12-26</th>\n",
       "      <td>18</td>\n",
       "      <td>1223</td>\n",
       "    </tr>\n",
       "    <tr>\n",
       "      <th>2016-12-27</th>\n",
       "      <td>18</td>\n",
       "      <td>1273</td>\n",
       "    </tr>\n",
       "    <tr>\n",
       "      <th>2016-12-28</th>\n",
       "      <td>18</td>\n",
       "      <td>1285</td>\n",
       "    </tr>\n",
       "    <tr>\n",
       "      <th>2016-12-29</th>\n",
       "      <td>18</td>\n",
       "      <td>1177</td>\n",
       "    </tr>\n",
       "    <tr>\n",
       "      <th>2016-12-30</th>\n",
       "      <td>18</td>\n",
       "      <td>1314</td>\n",
       "    </tr>\n",
       "    <tr>\n",
       "      <th>2016-12-31</th>\n",
       "      <td>18</td>\n",
       "      <td>1115</td>\n",
       "    </tr>\n",
       "  </tbody>\n",
       "</table>\n",
       "</div>"
      ],
      "text/plain": [
       "            store_nbr  transactions\n",
       "date                               \n",
       "2016-12-03         18          1580\n",
       "2016-12-04         18          1649\n",
       "2016-12-05         18          1342\n",
       "2016-12-06         18          1375\n",
       "2016-12-07         18          1277\n",
       "2016-12-08         18          1190\n",
       "2016-12-09         18          1261\n",
       "2016-12-10         18          1374\n",
       "2016-12-11         18          1478\n",
       "2016-12-12         18          1207\n",
       "2016-12-13         18          1367\n",
       "2016-12-14         18          1393\n",
       "2016-12-15         18          1444\n",
       "2016-12-16         18          1368\n",
       "2016-12-17         18          1570\n",
       "2016-12-18         18          1778\n",
       "2016-12-19         18          1506\n",
       "2016-12-20         18          1677\n",
       "2016-12-21         18          1832\n",
       "2016-12-22         18          2039\n",
       "2016-12-23         18          2151\n",
       "2016-12-24         18          2268\n",
       "2016-12-26         18          1223\n",
       "2016-12-27         18          1273\n",
       "2016-12-28         18          1285\n",
       "2016-12-29         18          1177\n",
       "2016-12-30         18          1314\n",
       "2016-12-31         18          1115"
      ]
     },
     "execution_count": 98,
     "metadata": {},
     "output_type": "execute_result"
    }
   ],
   "source": [
    "# Additional filter for the month of September (if needed)\n",
    "month_data = store_data[store_data.index.month == 12]\n",
    "\n",
    "month_data"
   ]
  },
  {
   "cell_type": "code",
   "execution_count": 99,
   "id": "db1ec929-f22b-453b-98d3-cb114e0ac5d9",
   "metadata": {},
   "outputs": [
    {
     "data": {
      "text/plain": [
       "18"
      ]
     },
     "execution_count": 99,
     "metadata": {},
     "output_type": "execute_result"
    }
   ],
   "source": [
    "# select stores in Quito\n",
    "df_tran_qui = df_tran[df_tran[\"store_nbr\"].isin(quito_store_list)]\n",
    "# sanity check\n",
    "df_tran_qui[\"store_nbr\"].nunique()"
   ]
  },
  {
   "cell_type": "code",
   "execution_count": 100,
   "id": "19813ae0-300f-4346-8acd-9bc92df2ed55",
   "metadata": {},
   "outputs": [
    {
     "data": {
      "text/html": [
       "<div>\n",
       "<style scoped>\n",
       "    .dataframe tbody tr th:only-of-type {\n",
       "        vertical-align: middle;\n",
       "    }\n",
       "\n",
       "    .dataframe tbody tr th {\n",
       "        vertical-align: top;\n",
       "    }\n",
       "\n",
       "    .dataframe thead th {\n",
       "        text-align: right;\n",
       "    }\n",
       "</style>\n",
       "<table border=\"1\" class=\"dataframe\">\n",
       "  <thead>\n",
       "    <tr style=\"text-align: right;\">\n",
       "      <th></th>\n",
       "      <th>date</th>\n",
       "      <th>store_nbr</th>\n",
       "      <th>transactions</th>\n",
       "    </tr>\n",
       "  </thead>\n",
       "  <tbody>\n",
       "    <tr>\n",
       "      <th>0</th>\n",
       "      <td>2013-01-02</td>\n",
       "      <td>1</td>\n",
       "      <td>2111</td>\n",
       "    </tr>\n",
       "    <tr>\n",
       "      <th>1</th>\n",
       "      <td>2013-01-02</td>\n",
       "      <td>2</td>\n",
       "      <td>2358</td>\n",
       "    </tr>\n",
       "    <tr>\n",
       "      <th>2</th>\n",
       "      <td>2013-01-02</td>\n",
       "      <td>3</td>\n",
       "      <td>3487</td>\n",
       "    </tr>\n",
       "    <tr>\n",
       "      <th>3</th>\n",
       "      <td>2013-01-02</td>\n",
       "      <td>4</td>\n",
       "      <td>1922</td>\n",
       "    </tr>\n",
       "    <tr>\n",
       "      <th>4</th>\n",
       "      <td>2013-01-02</td>\n",
       "      <td>6</td>\n",
       "      <td>2143</td>\n",
       "    </tr>\n",
       "  </tbody>\n",
       "</table>\n",
       "</div>"
      ],
      "text/plain": [
       "         date  store_nbr  transactions\n",
       "0  2013-01-02          1          2111\n",
       "1  2013-01-02          2          2358\n",
       "2  2013-01-02          3          3487\n",
       "3  2013-01-02          4          1922\n",
       "4  2013-01-02          6          2143"
      ]
     },
     "execution_count": 100,
     "metadata": {},
     "output_type": "execute_result"
    }
   ],
   "source": [
    "# save the Quito stores' transaction to a new file\n",
    "df_tran_qui.to_csv(\"transactions_quito_stores.csv\", index=False)\n",
    "# sanity check\n",
    "df_tran_new = pd.read_csv(\"transactions_quito_stores.csv\")\n",
    "df_tran_new.head()"
   ]
  },
  {
   "cell_type": "markdown",
   "id": "ee865c73-90c2-4fa8-8765-4d7cb9adc288",
   "metadata": {},
   "source": [
    "### 6. Now that all the 5 datasets are clean and in the right format, we can join them all together for more feature engineering and modeling."
   ]
  },
  {
   "cell_type": "code",
   "execution_count": 101,
   "id": "e13e0680-1737-41c2-ac1b-1b87916c7d87",
   "metadata": {},
   "outputs": [
    {
     "data": {
      "text/html": [
       "<div>\n",
       "<style scoped>\n",
       "    .dataframe tbody tr th:only-of-type {\n",
       "        vertical-align: middle;\n",
       "    }\n",
       "\n",
       "    .dataframe tbody tr th {\n",
       "        vertical-align: top;\n",
       "    }\n",
       "\n",
       "    .dataframe thead th {\n",
       "        text-align: right;\n",
       "    }\n",
       "</style>\n",
       "<table border=\"1\" class=\"dataframe\">\n",
       "  <thead>\n",
       "    <tr style=\"text-align: right;\">\n",
       "      <th></th>\n",
       "      <th>date</th>\n",
       "      <th>store_nbr</th>\n",
       "      <th>family</th>\n",
       "      <th>sales</th>\n",
       "      <th>onpromotion</th>\n",
       "      <th>store_promo</th>\n",
       "    </tr>\n",
       "  </thead>\n",
       "  <tbody>\n",
       "    <tr>\n",
       "      <th>0</th>\n",
       "      <td>2013-01-01</td>\n",
       "      <td>1</td>\n",
       "      <td>BEVERAGES</td>\n",
       "      <td>0.0</td>\n",
       "      <td>0</td>\n",
       "      <td>0</td>\n",
       "    </tr>\n",
       "    <tr>\n",
       "      <th>1</th>\n",
       "      <td>2013-01-01</td>\n",
       "      <td>1</td>\n",
       "      <td>CLEANING</td>\n",
       "      <td>0.0</td>\n",
       "      <td>0</td>\n",
       "      <td>0</td>\n",
       "    </tr>\n",
       "  </tbody>\n",
       "</table>\n",
       "</div>"
      ],
      "text/plain": [
       "         date  store_nbr     family  sales  onpromotion  store_promo\n",
       "0  2013-01-01          1  BEVERAGES    0.0            0            0\n",
       "1  2013-01-01          1   CLEANING    0.0            0            0"
      ]
     },
     "execution_count": 101,
     "metadata": {},
     "output_type": "execute_result"
    }
   ],
   "source": [
    "# read off the files \n",
    "df_sales_fn = pd.read_csv(\"sales.csv\")\n",
    "df_sales_fn.head(2)"
   ]
  },
  {
   "cell_type": "code",
   "execution_count": 102,
   "id": "6e04ab54-dcd5-4757-8542-93d88276e7ab",
   "metadata": {},
   "outputs": [
    {
     "data": {
      "text/html": [
       "<div>\n",
       "<style scoped>\n",
       "    .dataframe tbody tr th:only-of-type {\n",
       "        vertical-align: middle;\n",
       "    }\n",
       "\n",
       "    .dataframe tbody tr th {\n",
       "        vertical-align: top;\n",
       "    }\n",
       "\n",
       "    .dataframe thead th {\n",
       "        text-align: right;\n",
       "    }\n",
       "</style>\n",
       "<table border=\"1\" class=\"dataframe\">\n",
       "  <thead>\n",
       "    <tr style=\"text-align: right;\">\n",
       "      <th></th>\n",
       "      <th>store_nbr</th>\n",
       "      <th>city</th>\n",
       "      <th>state</th>\n",
       "      <th>type</th>\n",
       "      <th>cluster</th>\n",
       "    </tr>\n",
       "  </thead>\n",
       "  <tbody>\n",
       "    <tr>\n",
       "      <th>0</th>\n",
       "      <td>1</td>\n",
       "      <td>Quito</td>\n",
       "      <td>Pichincha</td>\n",
       "      <td>D</td>\n",
       "      <td>13</td>\n",
       "    </tr>\n",
       "    <tr>\n",
       "      <th>1</th>\n",
       "      <td>2</td>\n",
       "      <td>Quito</td>\n",
       "      <td>Pichincha</td>\n",
       "      <td>D</td>\n",
       "      <td>13</td>\n",
       "    </tr>\n",
       "  </tbody>\n",
       "</table>\n",
       "</div>"
      ],
      "text/plain": [
       "   store_nbr   city      state type  cluster\n",
       "0          1  Quito  Pichincha    D       13\n",
       "1          2  Quito  Pichincha    D       13"
      ]
     },
     "execution_count": 102,
     "metadata": {},
     "output_type": "execute_result"
    }
   ],
   "source": [
    "df_stores_fn = pd.read_csv(\"stores_quito.csv\")\n",
    "df_stores_fn.head(2)"
   ]
  },
  {
   "cell_type": "code",
   "execution_count": 103,
   "id": "81f99abc-cb2b-43e5-bb78-e862ca42957d",
   "metadata": {},
   "outputs": [
    {
     "data": {
      "text/html": [
       "<div>\n",
       "<style scoped>\n",
       "    .dataframe tbody tr th:only-of-type {\n",
       "        vertical-align: middle;\n",
       "    }\n",
       "\n",
       "    .dataframe tbody tr th {\n",
       "        vertical-align: top;\n",
       "    }\n",
       "\n",
       "    .dataframe thead th {\n",
       "        text-align: right;\n",
       "    }\n",
       "</style>\n",
       "<table border=\"1\" class=\"dataframe\">\n",
       "  <thead>\n",
       "    <tr style=\"text-align: right;\">\n",
       "      <th></th>\n",
       "      <th>date</th>\n",
       "      <th>dcoilwtico</th>\n",
       "    </tr>\n",
       "  </thead>\n",
       "  <tbody>\n",
       "    <tr>\n",
       "      <th>0</th>\n",
       "      <td>2013-01-01</td>\n",
       "      <td>93.14</td>\n",
       "    </tr>\n",
       "    <tr>\n",
       "      <th>1</th>\n",
       "      <td>2013-01-02</td>\n",
       "      <td>93.14</td>\n",
       "    </tr>\n",
       "  </tbody>\n",
       "</table>\n",
       "</div>"
      ],
      "text/plain": [
       "         date  dcoilwtico\n",
       "0  2013-01-01       93.14\n",
       "1  2013-01-02       93.14"
      ]
     },
     "execution_count": 103,
     "metadata": {},
     "output_type": "execute_result"
    }
   ],
   "source": [
    "df_oil_fn = pd.read_csv(\"oil2.csv\")\n",
    "df_oil_fn.head(2)"
   ]
  },
  {
   "cell_type": "code",
   "execution_count": 104,
   "id": "76a814dc-f27e-4b07-a2a0-dbd3d6325ee8",
   "metadata": {},
   "outputs": [
    {
     "data": {
      "text/html": [
       "<div>\n",
       "<style scoped>\n",
       "    .dataframe tbody tr th:only-of-type {\n",
       "        vertical-align: middle;\n",
       "    }\n",
       "\n",
       "    .dataframe tbody tr th {\n",
       "        vertical-align: top;\n",
       "    }\n",
       "\n",
       "    .dataframe thead th {\n",
       "        text-align: right;\n",
       "    }\n",
       "</style>\n",
       "<table border=\"1\" class=\"dataframe\">\n",
       "  <thead>\n",
       "    <tr style=\"text-align: right;\">\n",
       "      <th></th>\n",
       "      <th>date</th>\n",
       "      <th>type</th>\n",
       "      <th>locale</th>\n",
       "      <th>description_eng</th>\n",
       "    </tr>\n",
       "  </thead>\n",
       "  <tbody>\n",
       "    <tr>\n",
       "      <th>0</th>\n",
       "      <td>2012-08-10</td>\n",
       "      <td>Holiday</td>\n",
       "      <td>National</td>\n",
       "      <td>First shout of independence</td>\n",
       "    </tr>\n",
       "    <tr>\n",
       "      <th>1</th>\n",
       "      <td>2012-10-12</td>\n",
       "      <td>Transfer</td>\n",
       "      <td>National</td>\n",
       "      <td>Transfer Independence of Guayaquil</td>\n",
       "    </tr>\n",
       "  </tbody>\n",
       "</table>\n",
       "</div>"
      ],
      "text/plain": [
       "         date      type    locale                     description_eng\n",
       "0  2012-08-10   Holiday  National         First shout of independence\n",
       "1  2012-10-12  Transfer  National  Transfer Independence of Guayaquil"
      ]
     },
     "execution_count": 104,
     "metadata": {},
     "output_type": "execute_result"
    }
   ],
   "source": [
    "df_ho_fn = pd.read_csv(\"holidays_quito.csv\")\n",
    "df_ho_fn.head(2)"
   ]
  },
  {
   "cell_type": "code",
   "execution_count": 105,
   "id": "70694507-d190-4555-8bcd-13cf4835e504",
   "metadata": {},
   "outputs": [
    {
     "data": {
      "text/html": [
       "<div>\n",
       "<style scoped>\n",
       "    .dataframe tbody tr th:only-of-type {\n",
       "        vertical-align: middle;\n",
       "    }\n",
       "\n",
       "    .dataframe tbody tr th {\n",
       "        vertical-align: top;\n",
       "    }\n",
       "\n",
       "    .dataframe thead th {\n",
       "        text-align: right;\n",
       "    }\n",
       "</style>\n",
       "<table border=\"1\" class=\"dataframe\">\n",
       "  <thead>\n",
       "    <tr style=\"text-align: right;\">\n",
       "      <th></th>\n",
       "      <th>date</th>\n",
       "      <th>store_nbr</th>\n",
       "      <th>transactions</th>\n",
       "    </tr>\n",
       "  </thead>\n",
       "  <tbody>\n",
       "    <tr>\n",
       "      <th>0</th>\n",
       "      <td>2013-01-02</td>\n",
       "      <td>1</td>\n",
       "      <td>2111</td>\n",
       "    </tr>\n",
       "    <tr>\n",
       "      <th>1</th>\n",
       "      <td>2013-01-02</td>\n",
       "      <td>2</td>\n",
       "      <td>2358</td>\n",
       "    </tr>\n",
       "  </tbody>\n",
       "</table>\n",
       "</div>"
      ],
      "text/plain": [
       "         date  store_nbr  transactions\n",
       "0  2013-01-02          1          2111\n",
       "1  2013-01-02          2          2358"
      ]
     },
     "execution_count": 105,
     "metadata": {},
     "output_type": "execute_result"
    }
   ],
   "source": [
    "df_tran_fn = pd.read_csv(\"transactions_quito_stores.csv\")\n",
    "df_tran_fn.head(2)"
   ]
  },
  {
   "cell_type": "code",
   "execution_count": 106,
   "id": "fbe45e71-cf6b-44bd-952c-8bf55ca02a82",
   "metadata": {},
   "outputs": [
    {
     "data": {
      "text/html": [
       "<div>\n",
       "<style scoped>\n",
       "    .dataframe tbody tr th:only-of-type {\n",
       "        vertical-align: middle;\n",
       "    }\n",
       "\n",
       "    .dataframe tbody tr th {\n",
       "        vertical-align: top;\n",
       "    }\n",
       "\n",
       "    .dataframe thead th {\n",
       "        text-align: right;\n",
       "    }\n",
       "</style>\n",
       "<table border=\"1\" class=\"dataframe\">\n",
       "  <thead>\n",
       "    <tr style=\"text-align: right;\">\n",
       "      <th></th>\n",
       "      <th>date</th>\n",
       "      <th>store_nbr</th>\n",
       "      <th>family</th>\n",
       "      <th>sales</th>\n",
       "      <th>onpromotion</th>\n",
       "      <th>store_promo</th>\n",
       "      <th>city</th>\n",
       "      <th>state</th>\n",
       "      <th>type_x</th>\n",
       "      <th>cluster</th>\n",
       "      <th>dcoilwtico</th>\n",
       "      <th>type_y</th>\n",
       "      <th>locale</th>\n",
       "      <th>description_eng</th>\n",
       "      <th>transactions</th>\n",
       "    </tr>\n",
       "  </thead>\n",
       "  <tbody>\n",
       "    <tr>\n",
       "      <th>0</th>\n",
       "      <td>2013-01-01</td>\n",
       "      <td>1</td>\n",
       "      <td>BEVERAGES</td>\n",
       "      <td>0.0</td>\n",
       "      <td>0</td>\n",
       "      <td>0</td>\n",
       "      <td>Quito</td>\n",
       "      <td>Pichincha</td>\n",
       "      <td>D</td>\n",
       "      <td>13</td>\n",
       "      <td>93.14</td>\n",
       "      <td>Holiday</td>\n",
       "      <td>National</td>\n",
       "      <td>First day of the year</td>\n",
       "      <td>NaN</td>\n",
       "    </tr>\n",
       "    <tr>\n",
       "      <th>1</th>\n",
       "      <td>2013-01-01</td>\n",
       "      <td>1</td>\n",
       "      <td>CLEANING</td>\n",
       "      <td>0.0</td>\n",
       "      <td>0</td>\n",
       "      <td>0</td>\n",
       "      <td>Quito</td>\n",
       "      <td>Pichincha</td>\n",
       "      <td>D</td>\n",
       "      <td>13</td>\n",
       "      <td>93.14</td>\n",
       "      <td>Holiday</td>\n",
       "      <td>National</td>\n",
       "      <td>First day of the year</td>\n",
       "      <td>NaN</td>\n",
       "    </tr>\n",
       "    <tr>\n",
       "      <th>2</th>\n",
       "      <td>2013-01-01</td>\n",
       "      <td>1</td>\n",
       "      <td>DAIRY</td>\n",
       "      <td>0.0</td>\n",
       "      <td>0</td>\n",
       "      <td>0</td>\n",
       "      <td>Quito</td>\n",
       "      <td>Pichincha</td>\n",
       "      <td>D</td>\n",
       "      <td>13</td>\n",
       "      <td>93.14</td>\n",
       "      <td>Holiday</td>\n",
       "      <td>National</td>\n",
       "      <td>First day of the year</td>\n",
       "      <td>NaN</td>\n",
       "    </tr>\n",
       "    <tr>\n",
       "      <th>3</th>\n",
       "      <td>2013-01-01</td>\n",
       "      <td>1</td>\n",
       "      <td>GROCERY I</td>\n",
       "      <td>0.0</td>\n",
       "      <td>0</td>\n",
       "      <td>0</td>\n",
       "      <td>Quito</td>\n",
       "      <td>Pichincha</td>\n",
       "      <td>D</td>\n",
       "      <td>13</td>\n",
       "      <td>93.14</td>\n",
       "      <td>Holiday</td>\n",
       "      <td>National</td>\n",
       "      <td>First day of the year</td>\n",
       "      <td>NaN</td>\n",
       "    </tr>\n",
       "    <tr>\n",
       "      <th>4</th>\n",
       "      <td>2013-01-01</td>\n",
       "      <td>1</td>\n",
       "      <td>PRODUCE</td>\n",
       "      <td>0.0</td>\n",
       "      <td>0</td>\n",
       "      <td>0</td>\n",
       "      <td>Quito</td>\n",
       "      <td>Pichincha</td>\n",
       "      <td>D</td>\n",
       "      <td>13</td>\n",
       "      <td>93.14</td>\n",
       "      <td>Holiday</td>\n",
       "      <td>National</td>\n",
       "      <td>First day of the year</td>\n",
       "      <td>NaN</td>\n",
       "    </tr>\n",
       "  </tbody>\n",
       "</table>\n",
       "</div>"
      ],
      "text/plain": [
       "         date  store_nbr     family  sales  onpromotion  store_promo   city  \\\n",
       "0  2013-01-01          1  BEVERAGES    0.0            0            0  Quito   \n",
       "1  2013-01-01          1   CLEANING    0.0            0            0  Quito   \n",
       "2  2013-01-01          1      DAIRY    0.0            0            0  Quito   \n",
       "3  2013-01-01          1  GROCERY I    0.0            0            0  Quito   \n",
       "4  2013-01-01          1    PRODUCE    0.0            0            0  Quito   \n",
       "\n",
       "       state type_x  cluster  dcoilwtico   type_y    locale  \\\n",
       "0  Pichincha      D       13       93.14  Holiday  National   \n",
       "1  Pichincha      D       13       93.14  Holiday  National   \n",
       "2  Pichincha      D       13       93.14  Holiday  National   \n",
       "3  Pichincha      D       13       93.14  Holiday  National   \n",
       "4  Pichincha      D       13       93.14  Holiday  National   \n",
       "\n",
       "         description_eng  transactions  \n",
       "0  First day of the year           NaN  \n",
       "1  First day of the year           NaN  \n",
       "2  First day of the year           NaN  \n",
       "3  First day of the year           NaN  \n",
       "4  First day of the year           NaN  "
      ]
     },
     "execution_count": 106,
     "metadata": {},
     "output_type": "execute_result"
    }
   ],
   "source": [
    "df_total = df_sales_fn.merge(df_stores_fn, on = 'store_nbr', how = 'left').merge(df_oil_fn, on = 'date', how = 'left').merge(df_ho_fn, on = 'date', how = 'left').merge(df_tran_fn, on = ['date', 'store_nbr'], how = 'left')\n",
    "df_total.head()"
   ]
  },
  {
   "cell_type": "code",
   "execution_count": 107,
   "id": "82b5d0f8-88fe-4032-8380-95e95f70ab7b",
   "metadata": {},
   "outputs": [],
   "source": [
    "# change the date to datetime\n",
    "df_total[\"date\"]= pd.to_datetime(df_total[\"date\"])"
   ]
  },
  {
   "cell_type": "code",
   "execution_count": 108,
   "id": "73fd849a-e87d-44f7-b114-10a4b40de014",
   "metadata": {},
   "outputs": [
    {
     "data": {
      "text/html": [
       "<div>\n",
       "<style scoped>\n",
       "    .dataframe tbody tr th:only-of-type {\n",
       "        vertical-align: middle;\n",
       "    }\n",
       "\n",
       "    .dataframe tbody tr th {\n",
       "        vertical-align: top;\n",
       "    }\n",
       "\n",
       "    .dataframe thead th {\n",
       "        text-align: right;\n",
       "    }\n",
       "</style>\n",
       "<table border=\"1\" class=\"dataframe\">\n",
       "  <thead>\n",
       "    <tr style=\"text-align: right;\">\n",
       "      <th></th>\n",
       "      <th>date</th>\n",
       "      <th>store_nbr</th>\n",
       "      <th>family</th>\n",
       "      <th>sales</th>\n",
       "      <th>onpromotion</th>\n",
       "      <th>store_promo</th>\n",
       "      <th>city</th>\n",
       "      <th>state</th>\n",
       "      <th>sto_type</th>\n",
       "      <th>cluster</th>\n",
       "      <th>dcoilwtico</th>\n",
       "      <th>holi_type</th>\n",
       "      <th>locale</th>\n",
       "      <th>description_eng</th>\n",
       "      <th>transactions</th>\n",
       "    </tr>\n",
       "  </thead>\n",
       "  <tbody>\n",
       "    <tr>\n",
       "      <th>0</th>\n",
       "      <td>2013-01-01</td>\n",
       "      <td>1</td>\n",
       "      <td>BEVERAGES</td>\n",
       "      <td>0.0</td>\n",
       "      <td>0</td>\n",
       "      <td>0</td>\n",
       "      <td>Quito</td>\n",
       "      <td>Pichincha</td>\n",
       "      <td>D</td>\n",
       "      <td>13</td>\n",
       "      <td>93.14</td>\n",
       "      <td>Holiday</td>\n",
       "      <td>National</td>\n",
       "      <td>First day of the year</td>\n",
       "      <td>NaN</td>\n",
       "    </tr>\n",
       "    <tr>\n",
       "      <th>1</th>\n",
       "      <td>2013-01-01</td>\n",
       "      <td>1</td>\n",
       "      <td>CLEANING</td>\n",
       "      <td>0.0</td>\n",
       "      <td>0</td>\n",
       "      <td>0</td>\n",
       "      <td>Quito</td>\n",
       "      <td>Pichincha</td>\n",
       "      <td>D</td>\n",
       "      <td>13</td>\n",
       "      <td>93.14</td>\n",
       "      <td>Holiday</td>\n",
       "      <td>National</td>\n",
       "      <td>First day of the year</td>\n",
       "      <td>NaN</td>\n",
       "    </tr>\n",
       "  </tbody>\n",
       "</table>\n",
       "</div>"
      ],
      "text/plain": [
       "        date  store_nbr     family  sales  onpromotion  store_promo   city  \\\n",
       "0 2013-01-01          1  BEVERAGES    0.0            0            0  Quito   \n",
       "1 2013-01-01          1   CLEANING    0.0            0            0  Quito   \n",
       "\n",
       "       state sto_type  cluster  dcoilwtico holi_type    locale  \\\n",
       "0  Pichincha        D       13       93.14   Holiday  National   \n",
       "1  Pichincha        D       13       93.14   Holiday  National   \n",
       "\n",
       "         description_eng  transactions  \n",
       "0  First day of the year           NaN  \n",
       "1  First day of the year           NaN  "
      ]
     },
     "execution_count": 108,
     "metadata": {},
     "output_type": "execute_result"
    }
   ],
   "source": [
    "# rename column names\n",
    "df_total.rename(columns={\"type_x\": \"sto_type\", \"type_y\": \"holi_type\"}, inplace=True)\n",
    "df_total.head(2)"
   ]
  },
  {
   "cell_type": "code",
   "execution_count": 109,
   "id": "2338a307-a5fb-4368-b582-5b69b9f1278b",
   "metadata": {},
   "outputs": [],
   "source": [
    "df_total.to_csv(\"quito_whole.csv\", index=False)"
   ]
  }
 ],
 "metadata": {
  "kernelspec": {
   "display_name": "Python 3 (ipykernel)",
   "language": "python",
   "name": "python3"
  },
  "language_info": {
   "codemirror_mode": {
    "name": "ipython",
    "version": 3
   },
   "file_extension": ".py",
   "mimetype": "text/x-python",
   "name": "python",
   "nbconvert_exporter": "python",
   "pygments_lexer": "ipython3",
   "version": "3.11.7"
  }
 },
 "nbformat": 4,
 "nbformat_minor": 5
}
