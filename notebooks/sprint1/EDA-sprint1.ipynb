{
 "cells": [
  {
   "cell_type": "markdown",
   "id": "d869fa81-e6db-418a-bfc0-32978e6695d6",
   "metadata": {},
   "source": [
    "https://www.kaggle.com/competitions/store-sales-time-series-forecasting/data"
   ]
  },
  {
   "cell_type": "markdown",
   "id": "939e4b96-c776-4fc6-9205-7005c4215bcb",
   "metadata": {},
   "source": [
    "### This EDA aims to understand data metrics and define the project scope. It involves analyzing five tables, totaling 3 million rows and 21 columns, to predict 15 days' sales for 33 categories across 54 stores in Ecuador. The goal is to help stores optimize their inventory, thereby preventing overstocking and understocking."
   ]
  },
  {
   "cell_type": "markdown",
   "id": "aab4e669-7672-4938-87c1-b08ea70faa08",
   "metadata": {},
   "source": [
    "### Data Dictionary\n",
    "\n",
    "#### 1. train.csv\n",
    "\n",
    "- **store_nbr**: the store at which the products are sold.\n",
    "- **family**: the type of product sold.\n",
    "- **sales**: the total sales for a product family at a particular store on a given date. Fractional values are possible since products can be sold in fractional units (e.g., 1.5 kg of cheese, as opposed to 1 bag of chips).\n",
    "- **onpromotion**: the total number of items in a product family that were being promoted at a store on a given date.\n",
    "\n",
    "#### 2. stores.csv\n",
    "\n",
    "include **city, state, type, and cluster**.\n",
    "- **cluster**: a grouping of similar stores.\n",
    "\n",
    "#### 3. oil.csv\n",
    "\n",
    "**Daily oil price**. (Ecuador is an oil-dependent country and it's economical health is highly vulnerable to shocks in oil prices.)\n",
    "\n",
    "#### 4. holidays_events.csv\n",
    "\n",
    "Holidays and Events, with metadata\n",
    "A holiday that is transferred officially falls on that calendar day, but was moved to another date by the government. A transferred day is more like a normal day than a holiday. \n",
    "Additional holidays are days added a regular calendar holiday, for example, as typically happens around Christmas (making Christmas Eve a holiday).\n",
    "\n",
    "#### 5.Additional Notes\n",
    "\n",
    "Wages in the public sector are paid every two weeks on the 15 th and on the last day of the month. Supermarket sales could be affected by this.\n",
    "A magnitude 7.8 earthquake struck Ecuador on April 16, 2016. People rallied in relief efforts donating water and other first need products which greatly affected supermarket sales for several weeks after the earthquake.quake.).)s.date."
   ]
  },
  {
   "cell_type": "code",
   "execution_count": 1,
   "id": "5c29edf1-6be7-4a6f-af1c-258946de8f47",
   "metadata": {},
   "outputs": [],
   "source": [
    "import numpy as np\n",
    "import pandas as pd\n",
    "import matplotlib.pyplot as plt\n",
    "import seaborn as sns"
   ]
  },
  {
   "cell_type": "markdown",
   "id": "92407c69-893f-450a-9a6d-00ba383b17fc",
   "metadata": {},
   "source": [
    "### Check the main table (train.csv)"
   ]
  },
  {
   "cell_type": "code",
   "execution_count": 55,
   "id": "94bf0b95-44c1-46d7-8871-a216506f3d3e",
   "metadata": {},
   "outputs": [
    {
     "name": "stdout",
     "output_type": "stream",
     "text": [
      "<class 'pandas.core.frame.DataFrame'>\n",
      "RangeIndex: 3000888 entries, 0 to 3000887\n",
      "Data columns (total 6 columns):\n",
      " #   Column       Dtype  \n",
      "---  ------       -----  \n",
      " 0   id           int64  \n",
      " 1   date         object \n",
      " 2   store_nbr    int64  \n",
      " 3   family       object \n",
      " 4   sales        float64\n",
      " 5   onpromotion  int64  \n",
      "dtypes: float64(1), int64(3), object(2)\n",
      "memory usage: 137.4+ MB\n"
     ]
    }
   ],
   "source": [
    "# Check train.csv for general information\n",
    "df = pd.read_csv(\"train.csv\")\n",
    "df.info()"
   ]
  },
  {
   "cell_type": "code",
   "execution_count": 58,
   "id": "44d41eb9-d197-4662-a0de-33035caf4e0f",
   "metadata": {},
   "outputs": [
    {
     "data": {
      "text/plain": [
       "0"
      ]
     },
     "execution_count": 58,
     "metadata": {},
     "output_type": "execute_result"
    }
   ],
   "source": [
    "# check for duplicated rows\n",
    "df.duplicated().sum()"
   ]
  },
  {
   "cell_type": "code",
   "execution_count": 3,
   "id": "1f7fb3b9-328d-4ed4-bf69-5d86fce170f0",
   "metadata": {},
   "outputs": [
    {
     "data": {
      "text/plain": [
       "id             0\n",
       "date           0\n",
       "store_nbr      0\n",
       "family         0\n",
       "sales          0\n",
       "onpromotion    0\n",
       "dtype: int64"
      ]
     },
     "execution_count": 3,
     "metadata": {},
     "output_type": "execute_result"
    }
   ],
   "source": [
    "# check for null values\n",
    "df.isnull().sum()"
   ]
  },
  {
   "cell_type": "code",
   "execution_count": 4,
   "id": "784c04ee-a838-45fd-b90d-c1c87bfb3ce5",
   "metadata": {},
   "outputs": [
    {
     "data": {
      "text/plain": [
       "(3000888, 6)"
      ]
     },
     "execution_count": 4,
     "metadata": {},
     "output_type": "execute_result"
    }
   ],
   "source": [
    "df.shape"
   ]
  },
  {
   "cell_type": "code",
   "execution_count": 5,
   "id": "d7fced93-e852-474b-8d4a-93b741258d33",
   "metadata": {},
   "outputs": [
    {
     "data": {
      "text/html": [
       "<div>\n",
       "<style scoped>\n",
       "    .dataframe tbody tr th:only-of-type {\n",
       "        vertical-align: middle;\n",
       "    }\n",
       "\n",
       "    .dataframe tbody tr th {\n",
       "        vertical-align: top;\n",
       "    }\n",
       "\n",
       "    .dataframe thead th {\n",
       "        text-align: right;\n",
       "    }\n",
       "</style>\n",
       "<table border=\"1\" class=\"dataframe\">\n",
       "  <thead>\n",
       "    <tr style=\"text-align: right;\">\n",
       "      <th></th>\n",
       "      <th>id</th>\n",
       "      <th>date</th>\n",
       "      <th>store_nbr</th>\n",
       "      <th>family</th>\n",
       "      <th>sales</th>\n",
       "      <th>onpromotion</th>\n",
       "    </tr>\n",
       "  </thead>\n",
       "  <tbody>\n",
       "    <tr>\n",
       "      <th>0</th>\n",
       "      <td>0</td>\n",
       "      <td>2013-01-01</td>\n",
       "      <td>1</td>\n",
       "      <td>AUTOMOTIVE</td>\n",
       "      <td>0.0</td>\n",
       "      <td>0</td>\n",
       "    </tr>\n",
       "    <tr>\n",
       "      <th>1</th>\n",
       "      <td>1</td>\n",
       "      <td>2013-01-01</td>\n",
       "      <td>1</td>\n",
       "      <td>BABY CARE</td>\n",
       "      <td>0.0</td>\n",
       "      <td>0</td>\n",
       "    </tr>\n",
       "    <tr>\n",
       "      <th>2</th>\n",
       "      <td>2</td>\n",
       "      <td>2013-01-01</td>\n",
       "      <td>1</td>\n",
       "      <td>BEAUTY</td>\n",
       "      <td>0.0</td>\n",
       "      <td>0</td>\n",
       "    </tr>\n",
       "    <tr>\n",
       "      <th>3</th>\n",
       "      <td>3</td>\n",
       "      <td>2013-01-01</td>\n",
       "      <td>1</td>\n",
       "      <td>BEVERAGES</td>\n",
       "      <td>0.0</td>\n",
       "      <td>0</td>\n",
       "    </tr>\n",
       "    <tr>\n",
       "      <th>4</th>\n",
       "      <td>4</td>\n",
       "      <td>2013-01-01</td>\n",
       "      <td>1</td>\n",
       "      <td>BOOKS</td>\n",
       "      <td>0.0</td>\n",
       "      <td>0</td>\n",
       "    </tr>\n",
       "  </tbody>\n",
       "</table>\n",
       "</div>"
      ],
      "text/plain": [
       "   id        date  store_nbr      family  sales  onpromotion\n",
       "0   0  2013-01-01          1  AUTOMOTIVE    0.0            0\n",
       "1   1  2013-01-01          1   BABY CARE    0.0            0\n",
       "2   2  2013-01-01          1      BEAUTY    0.0            0\n",
       "3   3  2013-01-01          1   BEVERAGES    0.0            0\n",
       "4   4  2013-01-01          1       BOOKS    0.0            0"
      ]
     },
     "execution_count": 5,
     "metadata": {},
     "output_type": "execute_result"
    }
   ],
   "source": [
    "df.head()"
   ]
  },
  {
   "cell_type": "code",
   "execution_count": 6,
   "id": "197737ad-e0e7-40d8-a959-6d338bfbdd73",
   "metadata": {},
   "outputs": [
    {
     "data": {
      "text/plain": [
       "54"
      ]
     },
     "execution_count": 6,
     "metadata": {},
     "output_type": "execute_result"
    }
   ],
   "source": [
    "df[\"store_nbr\"].nunique()"
   ]
  },
  {
   "cell_type": "code",
   "execution_count": 7,
   "id": "0fab5a77-85f2-4bf1-8485-0bd23a0a4110",
   "metadata": {},
   "outputs": [
    {
     "data": {
      "text/plain": [
       "array(['AUTOMOTIVE', 'BABY CARE', 'BEAUTY', 'BEVERAGES', 'BOOKS',\n",
       "       'BREAD/BAKERY', 'CELEBRATION', 'CLEANING', 'DAIRY', 'DELI', 'EGGS',\n",
       "       'FROZEN FOODS', 'GROCERY I', 'GROCERY II', 'HARDWARE',\n",
       "       'HOME AND KITCHEN I', 'HOME AND KITCHEN II', 'HOME APPLIANCES',\n",
       "       'HOME CARE', 'LADIESWEAR', 'LAWN AND GARDEN', 'LINGERIE',\n",
       "       'LIQUOR,WINE,BEER', 'MAGAZINES', 'MEATS', 'PERSONAL CARE',\n",
       "       'PET SUPPLIES', 'PLAYERS AND ELECTRONICS', 'POULTRY',\n",
       "       'PREPARED FOODS', 'PRODUCE', 'SCHOOL AND OFFICE SUPPLIES',\n",
       "       'SEAFOOD'], dtype=object)"
      ]
     },
     "execution_count": 7,
     "metadata": {},
     "output_type": "execute_result"
    }
   ],
   "source": [
    "# Check for product families\n",
    "df[\"family\"].unique()"
   ]
  },
  {
   "cell_type": "code",
   "execution_count": 11,
   "id": "adfb893c-c7fe-4f2a-b56e-71502cf51b03",
   "metadata": {},
   "outputs": [
    {
     "data": {
      "text/plain": [
       "33"
      ]
     },
     "execution_count": 11,
     "metadata": {},
     "output_type": "execute_result"
    }
   ],
   "source": [
    "# Check for the number of product families\n",
    "df[\"family\"].nunique()"
   ]
  },
  {
   "cell_type": "markdown",
   "id": "4c2449fe-aac9-47b3-8584-7f047ae41464",
   "metadata": {},
   "source": [
    "### In the train.csv, there are no null values. The data has 3,000,888 rows and 6 columns. The target column is \"sales\". The data contains 33 product categories, from automotive and baby care to groceries."
   ]
  },
  {
   "cell_type": "markdown",
   "id": "63cecab7-2804-4ad2-93ae-acdbf292d453",
   "metadata": {},
   "source": [
    "### Checking for trends"
   ]
  },
  {
   "cell_type": "code",
   "execution_count": 17,
   "id": "cc45b55d-073f-45e0-8635-b582124d370d",
   "metadata": {},
   "outputs": [],
   "source": [
    "# Add \"year\" column for future plotting\n",
    "df[\"date\"] = pd.to_datetime(df[\"date\"])  # Ensure the date column is in datetime format\n",
    "df[\"year\"] = df[\"date\"].dt.year"
   ]
  },
  {
   "cell_type": "code",
   "execution_count": 21,
   "id": "09c4d8ea-ff41-4e1a-ad33-0f70fe65b6a7",
   "metadata": {},
   "outputs": [
    {
     "data": {
      "image/png": "[encoded data removed]",
      "text/plain": [
       "<Figure size 640x480 with 1 Axes>"
      ]
     },
     "metadata": {},
     "output_type": "display_data"
    }
   ],
   "source": [
    "# plot based on years\n",
    "year_counts=df.groupby(\"year\")[\"id\"].count()\n",
    "plt.figure()\n",
    "plt.bar(year_counts.index,height=year_counts.values)\n",
    "plt.xlabel(\"year\")\n",
    "plt.ylabel(\"num of records\")\n",
    "plt.show()"
   ]
  },
  {
   "cell_type": "markdown",
   "id": "0376fab4-9b93-4d0b-ae0b-c2b260c6ee95",
   "metadata": {},
   "source": [
    "### Trend: The data include daily sales from 2013 to 2017.\n",
    "### Q1:\n",
    "#### <span style=\"color: red;\">Based on the above data, should I randomly select the testing set or can I control the testing set(the last 15 days?)</span> "
   ]
  },
  {
   "cell_type": "code",
   "execution_count": 74,
   "id": "704859d8-539b-4284-870b-4569b0d811b8",
   "metadata": {},
   "outputs": [],
   "source": [
    "df_family = df.groupby([\"family\"])[\"sales\"].sum().sort_values()"
   ]
  },
  {
   "cell_type": "code",
   "execution_count": 76,
   "id": "03f4b79e-75da-4a2e-8bdd-19de18ab1e21",
   "metadata": {},
   "outputs": [
    {
     "data": {
      "text/plain": [
       "Index(['GROCERY I', 'BEVERAGES', 'PRODUCE', 'CLEANING', 'DAIRY',\n",
       "       'BREAD/BAKERY', 'POULTRY', 'MEATS', 'PERSONAL CARE', 'DELI'],\n",
       "      dtype='object', name='family')"
      ]
     },
     "execution_count": 76,
     "metadata": {},
     "output_type": "execute_result"
    }
   ],
   "source": [
    "df_family.index[-10:][::-1]"
   ]
  },
  {
   "cell_type": "code",
   "execution_count": 52,
   "id": "a47b9e57-3a1a-476a-8b66-e4e29703fff5",
   "metadata": {},
   "outputs": [
    {
     "data": {
      "image/png": "[encoded data removed]",
      "text/plain": [
       "<Figure size 800x600 with 1 Axes>"
      ]
     },
     "metadata": {},
     "output_type": "display_data"
    }
   ],
   "source": [
    "# plot the sales by product family\n",
    "plt.figure(figsize=(8,6))\n",
    "plt.barh(df_family.index[-10:],df_family.values[-10:])\n",
    "plt.xlabel(\"family\")\n",
    "plt.ylabel(\"sales\")\n",
    "plt.title(\"Top10 Families by Sales Unit\")\n",
    "plt.show()"
   ]
  },
  {
   "cell_type": "code",
   "execution_count": 53,
   "id": "ae7050a7-f08a-445f-b4dc-27dacb75f4b2",
   "metadata": {},
   "outputs": [
    {
     "data": {
      "image/png": "[encoded data removed]",
      "text/plain": [
       "<Figure size 800x600 with 1 Axes>"
      ]
     },
     "metadata": {},
     "output_type": "display_data"
    }
   ],
   "source": [
    "# plot the sales by product family\n",
    "plt.figure(figsize=(8,6))\n",
    "plt.barh(df_family.index[:-10],df_family.values[:-10])\n",
    "plt.xlabel(\"family\")\n",
    "plt.ylabel(\"sales\")\n",
    "plt.title(\"Other Families by Sales Unit\")\n",
    "plt.show()"
   ]
  },
  {
   "cell_type": "markdown",
   "id": "067456dd-3267-49de-b5be-ccc166fcd830",
   "metadata": {},
   "source": [
    "### Trend: The data include 33 families but from \"seafood\", sales are very low.\n",
    "### Q1:\n",
    "#### <span style=\"color: red;\">Should I take out families from \"seafood\" and below?</span> "
   ]
  },
  {
   "cell_type": "code",
   "execution_count": 59,
   "id": "12b7dfc1-0ee8-4e5f-b78f-1f9fdc18f327",
   "metadata": {},
   "outputs": [
    {
     "name": "stdout",
     "output_type": "stream",
     "text": [
      "<class 'pandas.core.frame.DataFrame'>\n",
      "RangeIndex: 54 entries, 0 to 53\n",
      "Data columns (total 5 columns):\n",
      " #   Column     Non-Null Count  Dtype \n",
      "---  ------     --------------  ----- \n",
      " 0   store_nbr  54 non-null     int64 \n",
      " 1   city       54 non-null     object\n",
      " 2   state      54 non-null     object\n",
      " 3   type       54 non-null     object\n",
      " 4   cluster    54 non-null     int64 \n",
      "dtypes: int64(2), object(3)\n",
      "memory usage: 2.2+ KB\n"
     ]
    }
   ],
   "source": [
    "df2 = pd.read_csv(\"stores.csv\")\n",
    "df2.info()"
   ]
  },
  {
   "cell_type": "code",
   "execution_count": 60,
   "id": "80b44656-41a2-4794-a368-2f683026ebf6",
   "metadata": {},
   "outputs": [
    {
     "data": {
      "text/plain": [
       "0"
      ]
     },
     "execution_count": 60,
     "metadata": {},
     "output_type": "execute_result"
    }
   ],
   "source": [
    "# check for duplicated rows\n",
    "df2.duplicated().sum()"
   ]
  },
  {
   "cell_type": "code",
   "execution_count": 62,
   "id": "f5981764-02f2-4ba5-ba1f-fdb7b9f1430f",
   "metadata": {},
   "outputs": [
    {
     "data": {
      "text/plain": [
       "(54, 5)"
      ]
     },
     "execution_count": 62,
     "metadata": {},
     "output_type": "execute_result"
    }
   ],
   "source": [
    "df2.shape"
   ]
  },
  {
   "cell_type": "code",
   "execution_count": 63,
   "id": "549ac031-0864-4fda-9c4f-5c4da15caa45",
   "metadata": {},
   "outputs": [
    {
     "data": {
      "text/html": [
       "<div>\n",
       "<style scoped>\n",
       "    .dataframe tbody tr th:only-of-type {\n",
       "        vertical-align: middle;\n",
       "    }\n",
       "\n",
       "    .dataframe tbody tr th {\n",
       "        vertical-align: top;\n",
       "    }\n",
       "\n",
       "    .dataframe thead th {\n",
       "        text-align: right;\n",
       "    }\n",
       "</style>\n",
       "<table border=\"1\" class=\"dataframe\">\n",
       "  <thead>\n",
       "    <tr style=\"text-align: right;\">\n",
       "      <th></th>\n",
       "      <th>store_nbr</th>\n",
       "      <th>city</th>\n",
       "      <th>state</th>\n",
       "      <th>type</th>\n",
       "      <th>cluster</th>\n",
       "    </tr>\n",
       "  </thead>\n",
       "  <tbody>\n",
       "    <tr>\n",
       "      <th>0</th>\n",
       "      <td>1</td>\n",
       "      <td>Quito</td>\n",
       "      <td>Pichincha</td>\n",
       "      <td>D</td>\n",
       "      <td>13</td>\n",
       "    </tr>\n",
       "    <tr>\n",
       "      <th>1</th>\n",
       "      <td>2</td>\n",
       "      <td>Quito</td>\n",
       "      <td>Pichincha</td>\n",
       "      <td>D</td>\n",
       "      <td>13</td>\n",
       "    </tr>\n",
       "    <tr>\n",
       "      <th>2</th>\n",
       "      <td>3</td>\n",
       "      <td>Quito</td>\n",
       "      <td>Pichincha</td>\n",
       "      <td>D</td>\n",
       "      <td>8</td>\n",
       "    </tr>\n",
       "    <tr>\n",
       "      <th>3</th>\n",
       "      <td>4</td>\n",
       "      <td>Quito</td>\n",
       "      <td>Pichincha</td>\n",
       "      <td>D</td>\n",
       "      <td>9</td>\n",
       "    </tr>\n",
       "    <tr>\n",
       "      <th>4</th>\n",
       "      <td>5</td>\n",
       "      <td>Santo Domingo</td>\n",
       "      <td>Santo Domingo de los Tsachilas</td>\n",
       "      <td>D</td>\n",
       "      <td>4</td>\n",
       "    </tr>\n",
       "  </tbody>\n",
       "</table>\n",
       "</div>"
      ],
      "text/plain": [
       "   store_nbr           city                           state type  cluster\n",
       "0          1          Quito                       Pichincha    D       13\n",
       "1          2          Quito                       Pichincha    D       13\n",
       "2          3          Quito                       Pichincha    D        8\n",
       "3          4          Quito                       Pichincha    D        9\n",
       "4          5  Santo Domingo  Santo Domingo de los Tsachilas    D        4"
      ]
     },
     "execution_count": 63,
     "metadata": {},
     "output_type": "execute_result"
    }
   ],
   "source": [
    "df2.head()"
   ]
  },
  {
   "cell_type": "code",
   "execution_count": 64,
   "id": "fed0537a-bf92-4a70-aa2e-612846dffb44",
   "metadata": {},
   "outputs": [
    {
     "data": {
      "text/plain": [
       "store_nbr    0\n",
       "city         0\n",
       "state        0\n",
       "type         0\n",
       "cluster      0\n",
       "dtype: int64"
      ]
     },
     "execution_count": 64,
     "metadata": {},
     "output_type": "execute_result"
    }
   ],
   "source": [
    "df2.isnull().sum()"
   ]
  },
  {
   "cell_type": "markdown",
   "id": "0e568f89-65fd-4fbe-9d03-3ccd87051d7d",
   "metadata": {},
   "source": [
    "### There are no null values or duplicates. There are 54 stores all together. Use 'store_nbr' to join stores.csv with train.csv. My question: Are text columns required to be converted to numeric values to do modelling?"
   ]
  },
  {
   "cell_type": "markdown",
   "id": "fe83ee96-a1f9-4de4-aa16-48cb431faa0e",
   "metadata": {},
   "source": [
    "#### Ecuador is an oil-dependent country and it's economical health is highly vulnerable to shocks in oil prices."
   ]
  },
  {
   "cell_type": "code",
   "execution_count": 65,
   "id": "9a6d037d-2248-4313-95b2-856f2a943ae5",
   "metadata": {},
   "outputs": [
    {
     "name": "stdout",
     "output_type": "stream",
     "text": [
      "<class 'pandas.core.frame.DataFrame'>\n",
      "RangeIndex: 1218 entries, 0 to 1217\n",
      "Data columns (total 2 columns):\n",
      " #   Column      Non-Null Count  Dtype  \n",
      "---  ------      --------------  -----  \n",
      " 0   date        1218 non-null   object \n",
      " 1   dcoilwtico  1175 non-null   float64\n",
      "dtypes: float64(1), object(1)\n",
      "memory usage: 19.2+ KB\n"
     ]
    }
   ],
   "source": [
    "df3 = pd.read_csv(\"oil.csv\")\n",
    "df3.info()"
   ]
  },
  {
   "cell_type": "code",
   "execution_count": 66,
   "id": "a81fe75f-7524-48a0-8a17-418f3215da24",
   "metadata": {},
   "outputs": [
    {
     "data": {
      "text/plain": [
       "date           0\n",
       "dcoilwtico    43\n",
       "dtype: int64"
      ]
     },
     "execution_count": 66,
     "metadata": {},
     "output_type": "execute_result"
    }
   ],
   "source": [
    "df3.isnull().sum()"
   ]
  },
  {
   "cell_type": "code",
   "execution_count": 69,
   "id": "5edb5c27-7c43-4097-b77c-2cbac085ab29",
   "metadata": {},
   "outputs": [
    {
     "data": {
      "text/plain": [
       "0"
      ]
     },
     "execution_count": 69,
     "metadata": {},
     "output_type": "execute_result"
    }
   ],
   "source": [
    "df3.duplicated().sum()"
   ]
  },
  {
   "cell_type": "markdown",
   "id": "13e66374-f6dd-44a3-99a7-b5f23a807ce2",
   "metadata": {},
   "source": [
    "### There are 43 null values in the oil table. Since oil price is a crucial indicator for sales, and it is not a lot, I can search for the oil price and fill the nulls. Oil table can be joined with the above tables using 'date'."
   ]
  },
  {
   "cell_type": "code",
   "execution_count": 70,
   "id": "bf1e298d-7377-4b08-ab06-90f6e2fe688d",
   "metadata": {},
   "outputs": [
    {
     "name": "stdout",
     "output_type": "stream",
     "text": [
      "<class 'pandas.core.frame.DataFrame'>\n",
      "RangeIndex: 350 entries, 0 to 349\n",
      "Data columns (total 6 columns):\n",
      " #   Column       Non-Null Count  Dtype \n",
      "---  ------       --------------  ----- \n",
      " 0   date         350 non-null    object\n",
      " 1   type         350 non-null    object\n",
      " 2   locale       350 non-null    object\n",
      " 3   locale_name  350 non-null    object\n",
      " 4   description  350 non-null    object\n",
      " 5   transferred  350 non-null    bool  \n",
      "dtypes: bool(1), object(5)\n",
      "memory usage: 14.1+ KB\n"
     ]
    }
   ],
   "source": [
    "df4 = pd.read_csv(\"holidays_events.csv\")\n",
    "df4.info()"
   ]
  },
  {
   "cell_type": "code",
   "execution_count": 71,
   "id": "ed1da59a-9441-4d0b-bd27-eb04b123505e",
   "metadata": {},
   "outputs": [
    {
     "data": {
      "text/plain": [
       "0"
      ]
     },
     "execution_count": 71,
     "metadata": {},
     "output_type": "execute_result"
    }
   ],
   "source": [
    "df4.duplicated().sum()"
   ]
  },
  {
   "cell_type": "markdown",
   "id": "825c52d2-9252-410d-af56-f53c43645253",
   "metadata": {},
   "source": [
    "### There are no null values in the holidays_events; however, some holidays are transferred by the government to another day. I need to take a change the data in this table before joining it to the above tables using 'date'."
   ]
  },
  {
   "cell_type": "code",
   "execution_count": 72,
   "id": "d929974d-8bda-432e-a02e-b90c06f182f1",
   "metadata": {},
   "outputs": [
    {
     "name": "stdout",
     "output_type": "stream",
     "text": [
      "<class 'pandas.core.frame.DataFrame'>\n",
      "RangeIndex: 83488 entries, 0 to 83487\n",
      "Data columns (total 3 columns):\n",
      " #   Column        Non-Null Count  Dtype \n",
      "---  ------        --------------  ----- \n",
      " 0   date          83488 non-null  object\n",
      " 1   store_nbr     83488 non-null  int64 \n",
      " 2   transactions  83488 non-null  int64 \n",
      "dtypes: int64(2), object(1)\n",
      "memory usage: 1.9+ MB\n"
     ]
    }
   ],
   "source": [
    "df5 = pd.read_csv(\"transactions.csv\")\n",
    "df5.info()"
   ]
  },
  {
   "cell_type": "code",
   "execution_count": 73,
   "id": "540342b8-500e-4c1f-a79a-6db30b2db292",
   "metadata": {},
   "outputs": [
    {
     "data": {
      "text/plain": [
       "0"
      ]
     },
     "execution_count": 73,
     "metadata": {},
     "output_type": "execute_result"
    }
   ],
   "source": [
    "df5.duplicated().sum()"
   ]
  },
  {
   "cell_type": "markdown",
   "id": "0120bbf8-aeaa-405b-9265-9f1f4f813bfb",
   "metadata": {},
   "source": [
    "### There are no null values in the transactions; Join this table with the main table using 'date' and 'store_nbr'."
   ]
  },
  {
   "cell_type": "markdown",
   "id": "5bd57950-9059-488d-bb88-e4ef87607fe7",
   "metadata": {},
   "source": [
    "### General Questions\n",
    "#### <span style=\"color: red;\">After using time series model, should I compare the predictions with other models?</span> \n",
    "#### <span style=\"color: red;\">What are the general steps for the project? What are the timelines for each procedure? Do I need to build a GUI to take data and make predictions in real-time?</span> \n",
    "#### <span style=\"color: red;\">For my data, if I want to predict daily sales of each family in different stores in different cities, do I need to convert all the text into numeric values before running time series model? (There are many cities and families that are in text)?</span> "
   ]
  }
 ],
 "metadata": {
  "kernelspec": {
   "display_name": "Python 3 (ipykernel)",
   "language": "python",
   "name": "python3"
  },
  "language_info": {
   "codemirror_mode": {
    "name": "ipython",
    "version": 3
   },
   "file_extension": ".py",
   "mimetype": "text/x-python",
   "name": "python",
   "nbconvert_exporter": "python",
   "pygments_lexer": "ipython3",
   "version": "3.11.7"
  }
 },
 "nbformat": 4,
 "nbformat_minor": 5
}
